{
 "cells": [
  {
   "cell_type": "markdown",
   "metadata": {
    "deletable": true,
    "editable": true
   },
   "source": [
    "# Modeling a Torque-Free Rotating Body in Space\n",
    "Josh W. Day  \n",
    "MAE 223 - Multibody Dynamics (Fall 2017)  \n",
    "Final Project\n",
    "\n",
    "- *Estimated run-time to completion: **1m 30s***"
   ]
  },
  {
   "cell_type": "markdown",
   "metadata": {
    "deletable": true,
    "editable": true
   },
   "source": [
    "# 1. Introduction"
   ]
  },
  {
   "cell_type": "markdown",
   "metadata": {
    "deletable": true,
    "editable": true
   },
   "source": [
    "At this moment in history, mankind is on a precipice as it prepares to swim away from the shores of the cosmic ocean. In order to embark on this journey, we must be prepared to face the plethora of dangers that comes with living in space for an extended period of time - one in particular being the lack of gravity and its effect on the human body. Without the force of gravity acting on us, our bodies slowly deteriorate through decreasing bone density and muscle mass. For short time spans on the order of a year, this is a recoverable condition - however, beyond that, the effects begin to become more and more detrimental. If we are to begin thinking seriously about sending people to places beyond the moon or Mars, a viable method must be developed to simulate gravity for astronauts. One of the oldest and most-often considered methods is to use an enclosed, symmetric environment and allow it to rotate along a central axis to create a *rotogravic environment* on the interior - one that feigns a gravitational force via an individual's inertia in an inertial reference frame, or *centrifugal force*.\n",
    "\n",
    "\n",
    "The idea is prevalent both in academic literature and fiction alike, and while this report will make no attempt to solve *all* the problems associated with attempting such a monumental engineering feat (there are many), it will demonstrate this student's attempt to model and simulate the dynamic motion of one configuration in particular, specifically to become familiar with how the motion of the system will be affected by the motion of hypothetical astronauts, equipment, etc. within the confines of the station.\n",
    "\n",
    "The original objective set out to be accomplished would seen the formulation of an active controller which would work to control the position of \"ballast\" masses located on the circumference of the station in order to balance out any shifts in mass due to the aforementioned motion of people, equipment, etc. within the station, as shown in Figure 1 below.\n",
    "\n",
    "\n",
    "![](SysOutline1.png)\n",
    "\n",
    "The inspiration for this project stemmed from an idea involving water or some other fluid stored along the circumference to act as a passive mass balancing system and motion damper, however that was deemed to lie beyond the scope of this project, and a simpler system was examined instead.\n",
    "\n"
   ]
  },
  {
   "cell_type": "markdown",
   "metadata": {
    "deletable": true,
    "editable": true
   },
   "source": [
    "# 2. Formulation"
   ]
  },
  {
   "cell_type": "markdown",
   "metadata": {
    "deletable": true,
    "editable": true
   },
   "source": [
    "The system is modeled as a simple torus with major diameter significantly larger than inner tube diameter, fixed to a body frame *B*. Three rotations are required in order to orient to the body-fixed axes, and the order of rotation will certainly affect the interpretations of the results. As is generally well-known, two separate rotations performed around X then Y are not necessarily equal to the same rotations performed about Y then X axes. Therefore, it is necessary to pay close attention to which generalized coordinate revolves the reference frame about which axis.\n",
    "\n",
    "The mass of all the system components are treated as constants, but since the location of each point mass is prescribed through time, the variables that describe the locations must be introduced as *dynamic symbols*."
   ]
  },
  {
   "cell_type": "markdown",
   "metadata": {
    "deletable": true,
    "editable": true
   },
   "source": [
    "The formulation of the equations of motions for this system begins as usual with definition of our environment..."
   ]
  },
  {
   "cell_type": "code",
   "execution_count": 24,
   "metadata": {
    "deletable": true,
    "editable": true
   },
   "outputs": [],
   "source": [
    "import sympy as sm\n",
    "import sympy.physics.mechanics as me\n",
    "import numpy as np\n",
    "import matplotlib.pyplot as plt\n",
    "from pydy.system import System\n",
    "me.init_vprinting(use_latex=True, pretty_print=False)"
   ]
  },
  {
   "cell_type": "markdown",
   "metadata": {
    "deletable": true,
    "editable": true
   },
   "source": [
    "...and then defining a few key parameters of our system:\n",
    "- Station Mass, $m_s$\n",
    "- Station Radius, $R_s$\n",
    "- Station Length (in the axisymmetric direction), $L_s$\n",
    "- Initial angular velocity about axis of symmetry, $\\omega_0$"
   ]
  },
  {
   "cell_type": "code",
   "execution_count": 25,
   "metadata": {
    "deletable": true,
    "editable": true
   },
   "outputs": [],
   "source": [
    "ms, Rs, Ls, w0 = sm.symbols('m_s, R_s, L_s, omega_0')\n",
    "t = me.dynamicsymbols._t"
   ]
  },
  {
   "cell_type": "markdown",
   "metadata": {
    "deletable": true,
    "editable": true
   },
   "source": [
    "Next we define dynamic symbols to represent the cartesian locations of interest:\n",
    "- XYZ locations of the two point masses, and their corresponding mass symbols\n",
    "- XYZ locations of the two ballast masses, and their corresponding mass symbols"
   ]
  },
  {
   "cell_type": "code",
   "execution_count": 26,
   "metadata": {
    "deletable": true,
    "editable": true
   },
   "outputs": [],
   "source": [
    "# Measure numbers for vector that locates center of station body relative to CM\n",
    "# xpbs, ypbs, zpbs = me.dynamicsymbols('x_pbs, y_pbs, z_pbs')"
   ]
  },
  {
   "cell_type": "code",
   "execution_count": 27,
   "metadata": {
    "deletable": true,
    "editable": true
   },
   "outputs": [],
   "source": [
    "# Measure numbers for vector that locates Point P1 relative to CM, which will later be prescribed as a function of time\n",
    "mp1 = sm.symbols('m_p1')\n",
    "xp1, yp1, zp1 = me.dynamicsymbols('x_p1, y_p1, z_p1')"
   ]
  },
  {
   "cell_type": "code",
   "execution_count": 28,
   "metadata": {
    "deletable": true,
    "editable": true
   },
   "outputs": [],
   "source": [
    "# Measure numbers for vector that locates Point P2 relative to CM, which will later be prescribed as a function of time\n",
    "mp2 = sm.symbols('m_p2')\n",
    "xp2, yp2, zp2 = me.dynamicsymbols('x_p2, y_p2, z_p2')"
   ]
  },
  {
   "cell_type": "code",
   "execution_count": 29,
   "metadata": {
    "deletable": true,
    "editable": true
   },
   "outputs": [],
   "source": [
    "# Measure numbers for vector that locates Point Pblst1 relative to CM, which will later be prescribed as a function of time\n",
    "mpblst = sm.symbols('m_ballast')\n",
    "xpblst1, ypblst1, zpblst1 = me.dynamicsymbols('x_p_blst_1, y_p_blst_1, z_p_blst_1')"
   ]
  },
  {
   "cell_type": "code",
   "execution_count": 30,
   "metadata": {
    "deletable": true,
    "editable": true
   },
   "outputs": [],
   "source": [
    "# Measure numbers for vector that locates Point P2 relative to CM, which will later be prescribed as a function of time\n",
    "xpblst2, ypblst2, zpblst2 = me.dynamicsymbols('x_p_blst_2, y_p_blst_2, z_p_blst_2')"
   ]
  },
  {
   "cell_type": "markdown",
   "metadata": {
    "deletable": true,
    "editable": true
   },
   "source": [
    "# Generalized Coordinates\n",
    "- q1: Angle of rotation of intermediate RF N' about N.x axis\n",
    "- q2: Angle of rotation of intermediate RF N'' about N'.y axis\n",
    "- q3: Angle of rotation of body-fixed RF B about N''.z axis"
   ]
  },
  {
   "cell_type": "code",
   "execution_count": 31,
   "metadata": {
    "collapsed": true,
    "deletable": true,
    "editable": true,
    "jupyter": {
     "outputs_hidden": true
    }
   },
   "outputs": [],
   "source": [
    "q1, q2, q3 = me.dynamicsymbols('q1 q2 q3')"
   ]
  },
  {
   "cell_type": "markdown",
   "metadata": {
    "deletable": true,
    "editable": true
   },
   "source": [
    "# Generalized Speeds\n",
    "All generalized speeds are defined by the trivial definition, e.g. the derivatives of the generalized coordinates"
   ]
  },
  {
   "cell_type": "code",
   "execution_count": 32,
   "metadata": {
    "collapsed": false,
    "deletable": true,
    "editable": true,
    "jupyter": {
     "outputs_hidden": false
    }
   },
   "outputs": [],
   "source": [
    "u1, u2, u3 = me.dynamicsymbols('u1 u2 u3')"
   ]
  },
  {
   "cell_type": "markdown",
   "metadata": {
    "deletable": true,
    "editable": true
   },
   "source": [
    "# Reference Frames\n",
    "This is where things can get interesting. Depending on how on chooses to perform their body transformation, they will be required to interpret their results differently. Iteration and multiple trials led to using a simple Tait-Bryan XYZ transformation for this project due to a tendency for Euler transformations to result in a singularity (gimbal lock)."
   ]
  },
  {
   "cell_type": "code",
   "execution_count": 33,
   "metadata": {
    "collapsed": false,
    "deletable": true,
    "editable": true,
    "jupyter": {
     "outputs_hidden": false
    }
   },
   "outputs": [],
   "source": [
    "N = me.ReferenceFrame('N')\n",
    "B = N.orientnew('B', 'Body', [q1, q2, q3], 'XYZ')"
   ]
  },
  {
   "cell_type": "markdown",
   "metadata": {
    "deletable": true,
    "editable": true
   },
   "source": [
    "We should take care to remember from this point forward is that the angle $q_1$ is not measured directly from the body-fixed RF B, and instead is transformed through the intermediate RF N''."
   ]
  },
  {
   "cell_type": "markdown",
   "metadata": {
    "deletable": true,
    "editable": true
   },
   "source": [
    "# Kinematic Differential Equations"
   ]
  },
  {
   "cell_type": "code",
   "execution_count": 34,
   "metadata": {
    "collapsed": true,
    "deletable": true,
    "editable": true,
    "jupyter": {
     "outputs_hidden": true
    }
   },
   "outputs": [],
   "source": [
    "kdes = [u1 - q1.diff(),\n",
    "        u2 - q2.diff(),\n",
    "        u3 - q3.diff()]"
   ]
  },
  {
   "cell_type": "code",
   "execution_count": 35,
   "metadata": {
    "collapsed": true,
    "deletable": true,
    "editable": true,
    "jupyter": {
     "outputs_hidden": true
    }
   },
   "outputs": [],
   "source": [
    "qdots = sm.solve(kdes, q1.diff(), q2.diff(), q3.diff())"
   ]
  },
  {
   "cell_type": "markdown",
   "metadata": {
    "deletable": true,
    "editable": true
   },
   "source": [
    "# Substitute in the Generalized Speeds"
   ]
  },
  {
   "cell_type": "code",
   "execution_count": 36,
   "metadata": {
    "collapsed": false,
    "deletable": true,
    "editable": true,
    "jupyter": {
     "outputs_hidden": false
    }
   },
   "outputs": [],
   "source": [
    "w_B_N = B.ang_vel_in(N).subs(qdots).simplify()\n",
    "B.set_ang_vel(N, w_B_N)"
   ]
  },
  {
   "cell_type": "markdown",
   "metadata": {
    "deletable": true,
    "editable": true
   },
   "source": [
    "# Points (Positions of which are Specified Inputs)"
   ]
  },
  {
   "cell_type": "code",
   "execution_count": 37,
   "metadata": {
    "collapsed": true,
    "deletable": true,
    "editable": true,
    "jupyter": {
     "outputs_hidden": true
    }
   },
   "outputs": [],
   "source": [
    "O = me.Point('O')  # Point of origin at CM"
   ]
  },
  {
   "cell_type": "markdown",
   "metadata": {
    "deletable": true,
    "editable": true
   },
   "source": [
    "##### - IMPORTANT -\n",
    "The CM stays fixed at Point O. They are one and the same. As mass moves around by prescribed motion, the station also moves in reaction such that the CM of the *system* stays fixed in space"
   ]
  },
  {
   "cell_type": "code",
   "execution_count": 38,
   "metadata": {
    "collapsed": true,
    "deletable": true,
    "editable": true,
    "jupyter": {
     "outputs_hidden": true
    }
   },
   "outputs": [],
   "source": [
    "P1_loc_PBs = xp1*B.x + yp1*B.y + zp1*B.z  # Vector to locate Point P1 from Body Center of Station\n",
    "P2_loc_PBs = xp2*B.x + yp2*B.y + zp2*B.z  # Vector to locate Point P2 from Body Center of Station\n",
    "\n",
    "Pblst1_loc_PBs = xpblst1*B.x + ypblst1*B.y + zpblst1*B.z  # Vector to locate Point Ballast 1 from O\n",
    "Pblst2_loc_PBs = xpblst2*B.x + ypblst2*B.y + zpblst2*B.z  # Vector to locate Point Ballast 2 from O\n",
    "\n",
    "# Vector to locate Body Geometric Center from CM (since CM is fixed in space)\n",
    "# Can also be considered the negative of location of CM from Body Geometric Center\n",
    "PBs_loc_CM = -(mp1*P1_loc_PBs + mp2*P2_loc_PBs + mpblst*(Pblst1_loc_PBs + Pblst2_loc_PBs))/(mp1+mp2+(2*mpblst)+ms)\n",
    "\n",
    "P1_loc_CM = P1_loc_PBs + PBs_loc_CM # Vector to locate Point P1 from CM\n",
    "P2_loc_CM = P2_loc_PBs + PBs_loc_CM  # Vector to locate Point P2 from CM\n",
    "\n",
    "Pblst1_loc_CM = Pblst1_loc_PBs + PBs_loc_CM  # Vector to locate Point Ballast 1 from Body Center of Station\n",
    "Pblst2_loc_CM = Pblst2_loc_PBs + PBs_loc_CM  # Vector to locate Point Ballast 2 from Body Center of Station"
   ]
  },
  {
   "cell_type": "code",
   "execution_count": 39,
   "metadata": {
    "collapsed": true,
    "deletable": true,
    "editable": true,
    "jupyter": {
     "outputs_hidden": true
    }
   },
   "outputs": [],
   "source": [
    "P1 = O.locatenew('P_1', P1_loc_CM)\n",
    "P1.set_vel(B, 0)\n",
    "P1.set_vel(N, B.ang_vel_in(N).cross(P1_loc_CM))"
   ]
  },
  {
   "cell_type": "code",
   "execution_count": 40,
   "metadata": {
    "collapsed": true,
    "deletable": true,
    "editable": true,
    "jupyter": {
     "outputs_hidden": true
    }
   },
   "outputs": [],
   "source": [
    "P2 = O.locatenew('P_2', P2_loc_CM)\n",
    "P2.set_vel(B, 0)\n",
    "P2.set_vel(N, B.ang_vel_in(N).cross(P2_loc_CM))"
   ]
  },
  {
   "cell_type": "code",
   "execution_count": 41,
   "metadata": {
    "collapsed": true,
    "deletable": true,
    "editable": true,
    "jupyter": {
     "outputs_hidden": true
    }
   },
   "outputs": [],
   "source": [
    "Pblst1 = O.locatenew('P_ballast_1', Pblst1_loc_CM)\n",
    "Pblst1.set_vel(B, 0)\n",
    "Pblst1.set_vel(N, B.ang_vel_in(N).cross(Pblst1_loc_CM))"
   ]
  },
  {
   "cell_type": "code",
   "execution_count": 42,
   "metadata": {
    "collapsed": true,
    "deletable": true,
    "editable": true,
    "jupyter": {
     "outputs_hidden": true
    }
   },
   "outputs": [],
   "source": [
    "Pblst2 = O.locatenew('P_ballast_2', Pblst2_loc_CM)\n",
    "Pblst2.set_vel(B, 0)\n",
    "Pblst2.set_vel(N, B.ang_vel_in(N).cross(Pblst2_loc_CM))"
   ]
  },
  {
   "cell_type": "code",
   "execution_count": 43,
   "metadata": {
    "collapsed": true,
    "deletable": true,
    "editable": true,
    "jupyter": {
     "outputs_hidden": true
    }
   },
   "outputs": [],
   "source": [
    "PBs = O.locatenew('P_B_s', PBs_loc_CM)\n",
    "PBs.set_vel(B, 0)\n",
    "PBs.set_vel(N, B.ang_vel_in(N).cross(PBs_loc_CM))"
   ]
  },
  {
   "cell_type": "markdown",
   "metadata": {
    "deletable": true,
    "editable": true
   },
   "source": [
    "# Mass and Inertia"
   ]
  },
  {
   "cell_type": "code",
   "execution_count": 44,
   "metadata": {
    "collapsed": true,
    "deletable": true,
    "editable": true,
    "jupyter": {
     "outputs_hidden": true
    }
   },
   "outputs": [],
   "source": [
    "# Moment of Inertia of station in RF B\n",
    "Is = me.inertia(B, (ms/12)*(3*Rs**2 + Ls**2), (ms/12)*(3*Rs**2 + Ls**2), ms*Rs**2)\n",
    "\n",
    "station = me.RigidBody('station', PBs, B, ms, (Is, PBs))\n",
    "\n",
    "point1 = me.Particle('point1', P1, mp1)\n",
    "point2 = me.Particle('point2', P2, mp2)\n",
    "ballast1 = me.Particle('ballast1', Pblst1, mpblst)\n",
    "ballast2 = me.Particle('ballast2', Pblst2, mpblst)"
   ]
  },
  {
   "cell_type": "markdown",
   "metadata": {
    "deletable": true,
    "editable": true
   },
   "source": [
    "# Kane's Method\n",
    "With all parts of the system defined as was described earlier, we can call *me.KanesMethod* to formulate the dynamic equations $F + F^* = 0$"
   ]
  },
  {
   "cell_type": "code",
   "execution_count": 45,
   "metadata": {
    "collapsed": true,
    "deletable": true,
    "editable": true,
    "jupyter": {
     "outputs_hidden": true
    }
   },
   "outputs": [],
   "source": [
    "bodies = [station, point1, point2, ballast1, ballast2]\n",
    "loads = None"
   ]
  },
  {
   "cell_type": "code",
   "execution_count": 46,
   "metadata": {
    "collapsed": false,
    "deletable": true,
    "editable": true,
    "jupyter": {
     "outputs_hidden": false
    }
   },
   "outputs": [],
   "source": [
    "kane = me.KanesMethod(N,\n",
    "                      q_ind=(q1, q2, q3),\n",
    "                      u_ind=(u1, u2, u3),\n",
    "                      kd_eqs=kdes)"
   ]
  },
  {
   "cell_type": "code",
   "execution_count": 47,
   "metadata": {
    "collapsed": false,
    "deletable": true,
    "editable": true,
    "jupyter": {
     "outputs_hidden": false
    }
   },
   "outputs": [],
   "source": [
    "fr, frstar = kane.kanes_equations(bodies, loads)"
   ]
  },
  {
   "cell_type": "code",
   "execution_count": null,
   "metadata": {
    "collapsed": false,
    "deletable": true,
    "editable": true,
    "jupyter": {
     "outputs_hidden": false
    }
   },
   "outputs": [],
   "source": []
  },
  {
   "cell_type": "code",
   "execution_count": 48,
   "metadata": {
    "collapsed": false,
    "deletable": true,
    "editable": true,
    "jupyter": {
     "outputs_hidden": false
    }
   },
   "outputs": [
    {
     "data": {
      "image/png": "[encoded data removed]",
      "text/latex": [
       "$$\\left\\{q_{2}, q_{3}, u_{1}, u_{2}, u_{3}, x_{p1}, x_{p2}, x_{pblst1}, x_{pblst2}, y_{p1}, y_{p2}, y_{pblst1}, y_{pblst2}, z_{p1}, z_{p2}, z_{pblst1}, z_{pblst2}, \\dot{u}_{1}, \\dot{u}_{2}, \\dot{u}_{3}, \\dot{x}_{p1}, \\dot{x}_{p2}, \\dot{x}_{pblst1}, \\dot{x}_{pblst2}, \\dot{y}_{p1}, \\dot{y}_{p2}, \\dot{y}_{pblst1}, \\dot{y}_{pblst2}, \\dot{z}_{p1}, \\dot{z}_{p2}, \\dot{z}_{pblst1}, \\dot{z}_{pblst2}\\right\\}$$"
      ],
      "text/plain": [
       "{q2, q3, u1, u2, u3, x_p1, x_p2, x_p_blst_1, x_p_blst_2, y_p1, y_p2, y_p_blst_1, y_p_blst_2, z_p1, z_p2, z_p_blst_1, z_p_blst_2, u1', u2', u3', x_p1', x_p2', x_p_blst_1', x_p_blst_2', y_p1', y_p2', y_p_blst_1', y_p_blst_2', z_p1', z_p2', z_p_blst_1', z_p_blst_2'}"
      ]
     },
     "execution_count": 48,
     "metadata": {},
     "output_type": "execute_result"
    }
   ],
   "source": [
    "me.find_dynamicsymbols(frstar)"
   ]
  },
  {
   "cell_type": "markdown",
   "metadata": {
    "deletable": true,
    "editable": true
   },
   "source": [
    "What's interesting to note here is that $f_r$ and $f_r^*$ come to what we would expect:\n",
    "- $f_r = [0]$, as there are no forcing external forces acting on the system\n",
    "- $f_r^*$ is **NOT** a function of $q_1$. This result would be expected in a 'ZYX' transformation since the orientation of the station about its axis of symmetry should not affect the dynamics of the system (assuming symmetry of mass distribution as well). However, upon changing the rotation transformation style to something such as 'XYZ', we find that the system is *still not a function of $q_1$*, despite the fact that $q_1$ should now correspong to rotation about the inertial X axis.\n",
    "\n",
    "This discrepency was went completely unnoticed until the day of submission of this report, and therefore further exploration (and the possibility that it may affect the outcome of attempting to linearize the system) must be performed at a later time."
   ]
  },
  {
   "cell_type": "markdown",
   "metadata": {
    "deletable": true,
    "editable": true
   },
   "source": [
    "# 3. Simulation"
   ]
  },
  {
   "cell_type": "markdown",
   "metadata": {
    "deletable": true,
    "editable": true
   },
   "source": [
    "Before simulating, we need to specify a range of times to integrate over and system parameters (constants and initial conditions), followed by a function that will prescribe the location of the point masses through time.\n",
    "**- Note -** The masses ascribed here are NOT representative of a realistic station-astronaut(s) system. This system was designed in order to exaggerate the dynamical effects of such a system. Realistically, the perturbations would be much smaller considering the scales we are working with here."
   ]
  },
  {
   "cell_type": "code",
   "execution_count": 49,
   "metadata": {
    "collapsed": true,
    "deletable": true,
    "editable": true,
    "jupyter": {
     "outputs_hidden": true
    }
   },
   "outputs": [],
   "source": [
    "times = np.linspace(0.0, 30.0, num=300)\n",
    "\n",
    "constants = {ms: 1000,\n",
    "             Rs: 10,\n",
    "             Ls: 1,\n",
    "             mp1: 50,\n",
    "             mp2: 50,\n",
    "             mpblst: 100}\n",
    "\n",
    "init_cond = {q1: 0,\n",
    "             q2: 0,\n",
    "             q3: 0,\n",
    "             u1: 0.1,\n",
    "             u2: 0.1,\n",
    "             u3: 2}"
   ]
  },
  {
   "cell_type": "markdown",
   "metadata": {
    "deletable": true,
    "editable": true
   },
   "source": [
    "The method to prescribe the location of the points masses is labeled, appropriately enough, \"point_motion()\". As it is currently written, Particle motion will begin 5 seconds into the simulation, last for 10 seconds, then freeze. Currently, the Ballast masses are fixed in their respective locations."
   ]
  },
  {
   "cell_type": "code",
   "execution_count": 50,
   "metadata": {
    "collapsed": false,
    "deletable": true,
    "editable": true,
    "jupyter": {
     "outputs_hidden": false
    }
   },
   "outputs": [],
   "source": [
    "def point_motion(x, t, Rs=constants[Rs]):\n",
    "    if t < 5:\n",
    "        xp1 = 0\n",
    "        yp1 = Rs\n",
    "        zp1 = 0\n",
    "        \n",
    "        xp2 = 0\n",
    "        yp2 = -Rs\n",
    "        zp2 = 0\n",
    "    \n",
    "    elif t >= 5 and t < 15:\n",
    "        xp1 = Rs*np.cos((np.pi/2)*(1 - ((t-5)/10)))\n",
    "        yp1 = Rs*np.sin((np.pi/2)*(1 - ((t-5)/10)))\n",
    "        zp1 = 5*(t-5)/10\n",
    "\n",
    "        xp2 = Rs*np.cos((np.pi/2)*(1 - ((t-5)/10)))\n",
    "        yp2 = -Rs*np.sin((np.pi/2)*(1 - ((t-5)/10)))\n",
    "        zp2 = 0.8*(t-5)/10\n",
    "    \n",
    "    else:\n",
    "        xp1 = Rs\n",
    "        yp1 = 0\n",
    "        zp1 = 0.8\n",
    "\n",
    "        xp2 = Rs\n",
    "        yp2 = 0\n",
    "        zp2 = 0.8   \n",
    "\n",
    "    xpblst1 = -Rs\n",
    "    ypblst1 = 0\n",
    "    zpblst1 = 0\n",
    "    xpblst2 = Rs\n",
    "    ypblst2 = 0\n",
    "    zpblst2 = 0\n",
    "        \n",
    "    return np.array([xp1, yp1, zp1, xp2, yp2, zp2, xpblst1, ypblst1, zpblst1, xpblst2, ypblst2, zpblst2])\n",
    "\n",
    "specifieds = {(xp1, yp1, zp1, xp2, yp2, zp2, xpblst1, ypblst1, zpblst1, xpblst2, ypblst2, zpblst2): point_motion}"
   ]
  },
  {
   "cell_type": "markdown",
   "metadata": {
    "deletable": true,
    "editable": true
   },
   "source": [
    "With the system parameters defined, we can define our whole system by packaging it all together."
   ]
  },
  {
   "cell_type": "code",
   "execution_count": 51,
   "metadata": {
    "collapsed": true,
    "deletable": true,
    "editable": true,
    "jupyter": {
     "outputs_hidden": true
    }
   },
   "outputs": [],
   "source": [
    "sys = System(kane,\n",
    "             constants=constants,\n",
    "             specifieds=specifieds,\n",
    "             initial_conditions=init_cond,\n",
    "             times=times)"
   ]
  },
  {
   "cell_type": "markdown",
   "metadata": {
    "deletable": true,
    "editable": true
   },
   "source": [
    "aaaaaand integrate!"
   ]
  },
  {
   "cell_type": "code",
   "execution_count": 52,
   "metadata": {
    "collapsed": false,
    "deletable": true,
    "editable": true,
    "jupyter": {
     "outputs_hidden": false
    }
   },
   "outputs": [],
   "source": [
    "traj = sys.integrate()"
   ]
  },
  {
   "cell_type": "markdown",
   "metadata": {
    "deletable": true,
    "editable": true
   },
   "source": [
    "Instantiate a matplotlib notebook thingy to plot the states vs. time, then plot!"
   ]
  },
  {
   "cell_type": "code",
   "execution_count": 53,
   "metadata": {
    "collapsed": true,
    "deletable": true,
    "editable": true,
    "jupyter": {
     "outputs_hidden": true
    }
   },
   "outputs": [],
   "source": [
    "%matplotlib notebook"
   ]
  },
  {
   "cell_type": "code",
   "execution_count": 54,
   "metadata": {
    "collapsed": false,
    "deletable": true,
    "editable": true,
    "jupyter": {
     "outputs_hidden": false
    },
    "scrolled": true
   },
   "outputs": [
    {
     "data": {
      "application/javascript": [
       "/* Put everything inside the global mpl namespace */\n",
       "window.mpl = {};\n",
       "\n",
       "\n",
       "mpl.get_websocket_type = function() {\n",
       "    if (typeof(WebSocket) !== 'undefined') {\n",
       "        return WebSocket;\n",
       "    } else if (typeof(MozWebSocket) !== 'undefined') {\n",
       "        return MozWebSocket;\n",
       "    } else {\n",
       "        alert('Your browser does not have WebSocket support.' +\n",
       "              'Please try Chrome, Safari or Firefox ≥ 6. ' +\n",
       "              'Firefox 4 and 5 are also supported but you ' +\n",
       "              'have to enable WebSockets in about:config.');\n",
       "    };\n",
       "}\n",
       "\n",
       "mpl.figure = function(figure_id, websocket, ondownload, parent_element) {\n",
       "    this.id = figure_id;\n",
       "\n",
       "    this.ws = websocket;\n",
       "\n",
       "    this.supports_binary = (this.ws.binaryType != undefined);\n",
       "\n",
       "    if (!this.supports_binary) {\n",
       "        var warnings = document.getElementById(\"mpl-warnings\");\n",
       "        if (warnings) {\n",
       "            warnings.style.display = 'block';\n",
       "            warnings.textContent = (\n",
       "                \"This browser does not support binary websocket messages. \" +\n",
       "                    \"Performance may be slow.\");\n",
       "        }\n",
       "    }\n",
       "\n",
       "    this.imageObj = new Image();\n",
       "\n",
       "    this.context = undefined;\n",
       "    this.message = undefined;\n",
       "    this.canvas = undefined;\n",
       "    this.rubberband_canvas = undefined;\n",
       "    this.rubberband_context = undefined;\n",
       "    this.format_dropdown = undefined;\n",
       "\n",
       "    this.image_mode = 'full';\n",
       "\n",
       "    this.root = $('<div/>');\n",
       "    this._root_extra_style(this.root)\n",
       "    this.root.attr('style', 'display: inline-block');\n",
       "\n",
       "    $(parent_element).append(this.root);\n",
       "\n",
       "    this._init_header(this);\n",
       "    this._init_canvas(this);\n",
       "    this._init_toolbar(this);\n",
       "\n",
       "    var fig = this;\n",
       "\n",
       "    this.waiting = false;\n",
       "\n",
       "    this.ws.onopen =  function () {\n",
       "            fig.send_message(\"supports_binary\", {value: fig.supports_binary});\n",
       "            fig.send_message(\"send_image_mode\", {});\n",
       "            if (mpl.ratio != 1) {\n",
       "                fig.send_message(\"set_dpi_ratio\", {'dpi_ratio': mpl.ratio});\n",
       "            }\n",
       "            fig.send_message(\"refresh\", {});\n",
       "        }\n",
       "\n",
       "    this.imageObj.onload = function() {\n",
       "            if (fig.image_mode == 'full') {\n",
       "                // Full images could contain transparency (where diff images\n",
       "                // almost always do), so we need to clear the canvas so that\n",
       "                // there is no ghosting.\n",
       "                fig.context.clearRect(0, 0, fig.canvas.width, fig.canvas.height);\n",
       "            }\n",
       "            fig.context.drawImage(fig.imageObj, 0, 0);\n",
       "        };\n",
       "\n",
       "    this.imageObj.onunload = function() {\n",
       "        fig.ws.close();\n",
       "    }\n",
       "\n",
       "    this.ws.onmessage = this._make_on_message_function(this);\n",
       "\n",
       "    this.ondownload = ondownload;\n",
       "}\n",
       "\n",
       "mpl.figure.prototype._init_header = function() {\n",
       "    var titlebar = $(\n",
       "        '<div class=\"ui-dialog-titlebar ui-widget-header ui-corner-all ' +\n",
       "        'ui-helper-clearfix\"/>');\n",
       "    var titletext = $(\n",
       "        '<div class=\"ui-dialog-title\" style=\"width: 100%; ' +\n",
       "        'text-align: center; padding: 3px;\"/>');\n",
       "    titlebar.append(titletext)\n",
       "    this.root.append(titlebar);\n",
       "    this.header = titletext[0];\n",
       "}\n",
       "\n",
       "\n",
       "\n",
       "mpl.figure.prototype._canvas_extra_style = function(canvas_div) {\n",
       "\n",
       "}\n",
       "\n",
       "\n",
       "mpl.figure.prototype._root_extra_style = function(canvas_div) {\n",
       "\n",
       "}\n",
       "\n",
       "mpl.figure.prototype._init_canvas = function() {\n",
       "    var fig = this;\n",
       "\n",
       "    var canvas_div = $('<div/>');\n",
       "\n",
       "    canvas_div.attr('style', 'position: relative; clear: both; outline: 0');\n",
       "\n",
       "    function canvas_keyboard_event(event) {\n",
       "        return fig.key_event(event, event['data']);\n",
       "    }\n",
       "\n",
       "    canvas_div.keydown('key_press', canvas_keyboard_event);\n",
       "    canvas_div.keyup('key_release', canvas_keyboard_event);\n",
       "    this.canvas_div = canvas_div\n",
       "    this._canvas_extra_style(canvas_div)\n",
       "    this.root.append(canvas_div);\n",
       "\n",
       "    var canvas = $('<canvas/>');\n",
       "    canvas.addClass('mpl-canvas');\n",
       "    canvas.attr('style', \"left: 0; top: 0; z-index: 0; outline: 0\")\n",
       "\n",
       "    this.canvas = canvas[0];\n",
       "    this.context = canvas[0].getContext(\"2d\");\n",
       "\n",
       "    var backingStore = this.context.backingStorePixelRatio ||\n",
       "\tthis.context.webkitBackingStorePixelRatio ||\n",
       "\tthis.context.mozBackingStorePixelRatio ||\n",
       "\tthis.context.msBackingStorePixelRatio ||\n",
       "\tthis.context.oBackingStorePixelRatio ||\n",
       "\tthis.context.backingStorePixelRatio || 1;\n",
       "\n",
       "    mpl.ratio = (window.devicePixelRatio || 1) / backingStore;\n",
       "\n",
       "    var rubberband = $('<canvas/>');\n",
       "    rubberband.attr('style', \"position: absolute; left: 0; top: 0; z-index: 1;\")\n",
       "\n",
       "    var pass_mouse_events = true;\n",
       "\n",
       "    canvas_div.resizable({\n",
       "        start: function(event, ui) {\n",
       "            pass_mouse_events = false;\n",
       "        },\n",
       "        resize: function(event, ui) {\n",
       "            fig.request_resize(ui.size.width, ui.size.height);\n",
       "        },\n",
       "        stop: function(event, ui) {\n",
       "            pass_mouse_events = true;\n",
       "            fig.request_resize(ui.size.width, ui.size.height);\n",
       "        },\n",
       "    });\n",
       "\n",
       "    function mouse_event_fn(event) {\n",
       "        if (pass_mouse_events)\n",
       "            return fig.mouse_event(event, event['data']);\n",
       "    }\n",
       "\n",
       "    rubberband.mousedown('button_press', mouse_event_fn);\n",
       "    rubberband.mouseup('button_release', mouse_event_fn);\n",
       "    // Throttle sequential mouse events to 1 every 20ms.\n",
       "    rubberband.mousemove('motion_notify', mouse_event_fn);\n",
       "\n",
       "    rubberband.mouseenter('figure_enter', mouse_event_fn);\n",
       "    rubberband.mouseleave('figure_leave', mouse_event_fn);\n",
       "\n",
       "    canvas_div.on(\"wheel\", function (event) {\n",
       "        event = event.originalEvent;\n",
       "        event['data'] = 'scroll'\n",
       "        if (event.deltaY < 0) {\n",
       "            event.step = 1;\n",
       "        } else {\n",
       "            event.step = -1;\n",
       "        }\n",
       "        mouse_event_fn(event);\n",
       "    });\n",
       "\n",
       "    canvas_div.append(canvas);\n",
       "    canvas_div.append(rubberband);\n",
       "\n",
       "    this.rubberband = rubberband;\n",
       "    this.rubberband_canvas = rubberband[0];\n",
       "    this.rubberband_context = rubberband[0].getContext(\"2d\");\n",
       "    this.rubberband_context.strokeStyle = \"#000000\";\n",
       "\n",
       "    this._resize_canvas = function(width, height) {\n",
       "        // Keep the size of the canvas, canvas container, and rubber band\n",
       "        // canvas in synch.\n",
       "        canvas_div.css('width', width)\n",
       "        canvas_div.css('height', height)\n",
       "\n",
       "        canvas.attr('width', width * mpl.ratio);\n",
       "        canvas.attr('height', height * mpl.ratio);\n",
       "        canvas.attr('style', 'width: ' + width + 'px; height: ' + height + 'px;');\n",
       "\n",
       "        rubberband.attr('width', width);\n",
       "        rubberband.attr('height', height);\n",
       "    }\n",
       "\n",
       "    // Set the figure to an initial 600x600px, this will subsequently be updated\n",
       "    // upon first draw.\n",
       "    this._resize_canvas(600, 600);\n",
       "\n",
       "    // Disable right mouse context menu.\n",
       "    $(this.rubberband_canvas).bind(\"contextmenu\",function(e){\n",
       "        return false;\n",
       "    });\n",
       "\n",
       "    function set_focus () {\n",
       "        canvas.focus();\n",
       "        canvas_div.focus();\n",
       "    }\n",
       "\n",
       "    window.setTimeout(set_focus, 100);\n",
       "}\n",
       "\n",
       "mpl.figure.prototype._init_toolbar = function() {\n",
       "    var fig = this;\n",
       "\n",
       "    var nav_element = $('<div/>')\n",
       "    nav_element.attr('style', 'width: 100%');\n",
       "    this.root.append(nav_element);\n",
       "\n",
       "    // Define a callback function for later on.\n",
       "    function toolbar_event(event) {\n",
       "        return fig.toolbar_button_onclick(event['data']);\n",
       "    }\n",
       "    function toolbar_mouse_event(event) {\n",
       "        return fig.toolbar_button_onmouseover(event['data']);\n",
       "    }\n",
       "\n",
       "    for(var toolbar_ind in mpl.toolbar_items) {\n",
       "        var name = mpl.toolbar_items[toolbar_ind][0];\n",
       "        var tooltip = mpl.toolbar_items[toolbar_ind][1];\n",
       "        var image = mpl.toolbar_items[toolbar_ind][2];\n",
       "        var method_name = mpl.toolbar_items[toolbar_ind][3];\n",
       "\n",
       "        if (!name) {\n",
       "            // put a spacer in here.\n",
       "            continue;\n",
       "        }\n",
       "        var button = $('<button/>');\n",
       "        button.addClass('ui-button ui-widget ui-state-default ui-corner-all ' +\n",
       "                        'ui-button-icon-only');\n",
       "        button.attr('role', 'button');\n",
       "        button.attr('aria-disabled', 'false');\n",
       "        button.click(method_name, toolbar_event);\n",
       "        button.mouseover(tooltip, toolbar_mouse_event);\n",
       "\n",
       "        var icon_img = $('<span/>');\n",
       "        icon_img.addClass('ui-button-icon-primary ui-icon');\n",
       "        icon_img.addClass(image);\n",
       "        icon_img.addClass('ui-corner-all');\n",
       "\n",
       "        var tooltip_span = $('<span/>');\n",
       "        tooltip_span.addClass('ui-button-text');\n",
       "        tooltip_span.html(tooltip);\n",
       "\n",
       "        button.append(icon_img);\n",
       "        button.append(tooltip_span);\n",
       "\n",
       "        nav_element.append(button);\n",
       "    }\n",
       "\n",
       "    var fmt_picker_span = $('<span/>');\n",
       "\n",
       "    var fmt_picker = $('<select/>');\n",
       "    fmt_picker.addClass('mpl-toolbar-option ui-widget ui-widget-content');\n",
       "    fmt_picker_span.append(fmt_picker);\n",
       "    nav_element.append(fmt_picker_span);\n",
       "    this.format_dropdown = fmt_picker[0];\n",
       "\n",
       "    for (var ind in mpl.extensions) {\n",
       "        var fmt = mpl.extensions[ind];\n",
       "        var option = $(\n",
       "            '<option/>', {selected: fmt === mpl.default_extension}).html(fmt);\n",
       "        fmt_picker.append(option)\n",
       "    }\n",
       "\n",
       "    // Add hover states to the ui-buttons\n",
       "    $( \".ui-button\" ).hover(\n",
       "        function() { $(this).addClass(\"ui-state-hover\");},\n",
       "        function() { $(this).removeClass(\"ui-state-hover\");}\n",
       "    );\n",
       "\n",
       "    var status_bar = $('<span class=\"mpl-message\"/>');\n",
       "    nav_element.append(status_bar);\n",
       "    this.message = status_bar[0];\n",
       "}\n",
       "\n",
       "mpl.figure.prototype.request_resize = function(x_pixels, y_pixels) {\n",
       "    // Request matplotlib to resize the figure. Matplotlib will then trigger a resize in the client,\n",
       "    // which will in turn request a refresh of the image.\n",
       "    this.send_message('resize', {'width': x_pixels, 'height': y_pixels});\n",
       "}\n",
       "\n",
       "mpl.figure.prototype.send_message = function(type, properties) {\n",
       "    properties['type'] = type;\n",
       "    properties['figure_id'] = this.id;\n",
       "    this.ws.send(JSON.stringify(properties));\n",
       "}\n",
       "\n",
       "mpl.figure.prototype.send_draw_message = function() {\n",
       "    if (!this.waiting) {\n",
       "        this.waiting = true;\n",
       "        this.ws.send(JSON.stringify({type: \"draw\", figure_id: this.id}));\n",
       "    }\n",
       "}\n",
       "\n",
       "\n",
       "mpl.figure.prototype.handle_save = function(fig, msg) {\n",
       "    var format_dropdown = fig.format_dropdown;\n",
       "    var format = format_dropdown.options[format_dropdown.selectedIndex].value;\n",
       "    fig.ondownload(fig, format);\n",
       "}\n",
       "\n",
       "\n",
       "mpl.figure.prototype.handle_resize = function(fig, msg) {\n",
       "    var size = msg['size'];\n",
       "    if (size[0] != fig.canvas.width || size[1] != fig.canvas.height) {\n",
       "        fig._resize_canvas(size[0], size[1]);\n",
       "        fig.send_message(\"refresh\", {});\n",
       "    };\n",
       "}\n",
       "\n",
       "mpl.figure.prototype.handle_rubberband = function(fig, msg) {\n",
       "    var x0 = msg['x0'] / mpl.ratio;\n",
       "    var y0 = (fig.canvas.height - msg['y0']) / mpl.ratio;\n",
       "    var x1 = msg['x1'] / mpl.ratio;\n",
       "    var y1 = (fig.canvas.height - msg['y1']) / mpl.ratio;\n",
       "    x0 = Math.floor(x0) + 0.5;\n",
       "    y0 = Math.floor(y0) + 0.5;\n",
       "    x1 = Math.floor(x1) + 0.5;\n",
       "    y1 = Math.floor(y1) + 0.5;\n",
       "    var min_x = Math.min(x0, x1);\n",
       "    var min_y = Math.min(y0, y1);\n",
       "    var width = Math.abs(x1 - x0);\n",
       "    var height = Math.abs(y1 - y0);\n",
       "\n",
       "    fig.rubberband_context.clearRect(\n",
       "        0, 0, fig.canvas.width, fig.canvas.height);\n",
       "\n",
       "    fig.rubberband_context.strokeRect(min_x, min_y, width, height);\n",
       "}\n",
       "\n",
       "mpl.figure.prototype.handle_figure_label = function(fig, msg) {\n",
       "    // Updates the figure title.\n",
       "    fig.header.textContent = msg['label'];\n",
       "}\n",
       "\n",
       "mpl.figure.prototype.handle_cursor = function(fig, msg) {\n",
       "    var cursor = msg['cursor'];\n",
       "    switch(cursor)\n",
       "    {\n",
       "    case 0:\n",
       "        cursor = 'pointer';\n",
       "        break;\n",
       "    case 1:\n",
       "        cursor = 'default';\n",
       "        break;\n",
       "    case 2:\n",
       "        cursor = 'crosshair';\n",
       "        break;\n",
       "    case 3:\n",
       "        cursor = 'move';\n",
       "        break;\n",
       "    }\n",
       "    fig.rubberband_canvas.style.cursor = cursor;\n",
       "}\n",
       "\n",
       "mpl.figure.prototype.handle_message = function(fig, msg) {\n",
       "    fig.message.textContent = msg['message'];\n",
       "}\n",
       "\n",
       "mpl.figure.prototype.handle_draw = function(fig, msg) {\n",
       "    // Request the server to send over a new figure.\n",
       "    fig.send_draw_message();\n",
       "}\n",
       "\n",
       "mpl.figure.prototype.handle_image_mode = function(fig, msg) {\n",
       "    fig.image_mode = msg['mode'];\n",
       "}\n",
       "\n",
       "mpl.figure.prototype.updated_canvas_event = function() {\n",
       "    // Called whenever the canvas gets updated.\n",
       "    this.send_message(\"ack\", {});\n",
       "}\n",
       "\n",
       "// A function to construct a web socket function for onmessage handling.\n",
       "// Called in the figure constructor.\n",
       "mpl.figure.prototype._make_on_message_function = function(fig) {\n",
       "    return function socket_on_message(evt) {\n",
       "        if (evt.data instanceof Blob) {\n",
       "            /* FIXME: We get \"Resource interpreted as Image but\n",
       "             * transferred with MIME type text/plain:\" errors on\n",
       "             * Chrome.  But how to set the MIME type?  It doesn't seem\n",
       "             * to be part of the websocket stream */\n",
       "            evt.data.type = \"image/png\";\n",
       "\n",
       "            /* Free the memory for the previous frames */\n",
       "            if (fig.imageObj.src) {\n",
       "                (window.URL || window.webkitURL).revokeObjectURL(\n",
       "                    fig.imageObj.src);\n",
       "            }\n",
       "\n",
       "            fig.imageObj.src = (window.URL || window.webkitURL).createObjectURL(\n",
       "                evt.data);\n",
       "            fig.updated_canvas_event();\n",
       "            fig.waiting = false;\n",
       "            return;\n",
       "        }\n",
       "        else if (typeof evt.data === 'string' && evt.data.slice(0, 21) == \"data:image/png;base64\") {\n",
       "            fig.imageObj.src = evt.data;\n",
       "            fig.updated_canvas_event();\n",
       "            fig.waiting = false;\n",
       "            return;\n",
       "        }\n",
       "\n",
       "        var msg = JSON.parse(evt.data);\n",
       "        var msg_type = msg['type'];\n",
       "\n",
       "        // Call the  \"handle_{type}\" callback, which takes\n",
       "        // the figure and JSON message as its only arguments.\n",
       "        try {\n",
       "            var callback = fig[\"handle_\" + msg_type];\n",
       "        } catch (e) {\n",
       "            console.log(\"No handler for the '\" + msg_type + \"' message type: \", msg);\n",
       "            return;\n",
       "        }\n",
       "\n",
       "        if (callback) {\n",
       "            try {\n",
       "                // console.log(\"Handling '\" + msg_type + \"' message: \", msg);\n",
       "                callback(fig, msg);\n",
       "            } catch (e) {\n",
       "                console.log(\"Exception inside the 'handler_\" + msg_type + \"' callback:\", e, e.stack, msg);\n",
       "            }\n",
       "        }\n",
       "    };\n",
       "}\n",
       "\n",
       "// from http://stackoverflow.com/questions/1114465/getting-mouse-location-in-canvas\n",
       "mpl.findpos = function(e) {\n",
       "    //this section is from http://www.quirksmode.org/js/events_properties.html\n",
       "    var targ;\n",
       "    if (!e)\n",
       "        e = window.event;\n",
       "    if (e.target)\n",
       "        targ = e.target;\n",
       "    else if (e.srcElement)\n",
       "        targ = e.srcElement;\n",
       "    if (targ.nodeType == 3) // defeat Safari bug\n",
       "        targ = targ.parentNode;\n",
       "\n",
       "    // jQuery normalizes the pageX and pageY\n",
       "    // pageX,Y are the mouse positions relative to the document\n",
       "    // offset() returns the position of the element relative to the document\n",
       "    var x = e.pageX - $(targ).offset().left;\n",
       "    var y = e.pageY - $(targ).offset().top;\n",
       "\n",
       "    return {\"x\": x, \"y\": y};\n",
       "};\n",
       "\n",
       "/*\n",
       " * return a copy of an object with only non-object keys\n",
       " * we need this to avoid circular references\n",
       " * http://stackoverflow.com/a/24161582/3208463\n",
       " */\n",
       "function simpleKeys (original) {\n",
       "  return Object.keys(original).reduce(function (obj, key) {\n",
       "    if (typeof original[key] !== 'object')\n",
       "        obj[key] = original[key]\n",
       "    return obj;\n",
       "  }, {});\n",
       "}\n",
       "\n",
       "mpl.figure.prototype.mouse_event = function(event, name) {\n",
       "    var canvas_pos = mpl.findpos(event)\n",
       "\n",
       "    if (name === 'button_press')\n",
       "    {\n",
       "        this.canvas.focus();\n",
       "        this.canvas_div.focus();\n",
       "    }\n",
       "\n",
       "    var x = canvas_pos.x * mpl.ratio;\n",
       "    var y = canvas_pos.y * mpl.ratio;\n",
       "\n",
       "    this.send_message(name, {x: x, y: y, button: event.button,\n",
       "                             step: event.step,\n",
       "                             guiEvent: simpleKeys(event)});\n",
       "\n",
       "    /* This prevents the web browser from automatically changing to\n",
       "     * the text insertion cursor when the button is pressed.  We want\n",
       "     * to control all of the cursor setting manually through the\n",
       "     * 'cursor' event from matplotlib */\n",
       "    event.preventDefault();\n",
       "    return false;\n",
       "}\n",
       "\n",
       "mpl.figure.prototype._key_event_extra = function(event, name) {\n",
       "    // Handle any extra behaviour associated with a key event\n",
       "}\n",
       "\n",
       "mpl.figure.prototype.key_event = function(event, name) {\n",
       "\n",
       "    // Prevent repeat events\n",
       "    if (name == 'key_press')\n",
       "    {\n",
       "        if (event.which === this._key)\n",
       "            return;\n",
       "        else\n",
       "            this._key = event.which;\n",
       "    }\n",
       "    if (name == 'key_release')\n",
       "        this._key = null;\n",
       "\n",
       "    var value = '';\n",
       "    if (event.ctrlKey && event.which != 17)\n",
       "        value += \"ctrl+\";\n",
       "    if (event.altKey && event.which != 18)\n",
       "        value += \"alt+\";\n",
       "    if (event.shiftKey && event.which != 16)\n",
       "        value += \"shift+\";\n",
       "\n",
       "    value += 'k';\n",
       "    value += event.which.toString();\n",
       "\n",
       "    this._key_event_extra(event, name);\n",
       "\n",
       "    this.send_message(name, {key: value,\n",
       "                             guiEvent: simpleKeys(event)});\n",
       "    return false;\n",
       "}\n",
       "\n",
       "mpl.figure.prototype.toolbar_button_onclick = function(name) {\n",
       "    if (name == 'download') {\n",
       "        this.handle_save(this, null);\n",
       "    } else {\n",
       "        this.send_message(\"toolbar_button\", {name: name});\n",
       "    }\n",
       "};\n",
       "\n",
       "mpl.figure.prototype.toolbar_button_onmouseover = function(tooltip) {\n",
       "    this.message.textContent = tooltip;\n",
       "};\n",
       "mpl.toolbar_items = [[\"Home\", \"Reset original view\", \"fa fa-home icon-home\", \"home\"], [\"Back\", \"Back to  previous view\", \"fa fa-arrow-left icon-arrow-left\", \"back\"], [\"Forward\", \"Forward to next view\", \"fa fa-arrow-right icon-arrow-right\", \"forward\"], [\"\", \"\", \"\", \"\"], [\"Pan\", \"Pan axes with left mouse, zoom with right\", \"fa fa-arrows icon-move\", \"pan\"], [\"Zoom\", \"Zoom to rectangle\", \"fa fa-square-o icon-check-empty\", \"zoom\"], [\"\", \"\", \"\", \"\"], [\"Download\", \"Download plot\", \"fa fa-floppy-o icon-save\", \"download\"]];\n",
       "\n",
       "mpl.extensions = [\"eps\", \"pdf\", \"png\", \"ps\", \"raw\", \"svg\"];\n",
       "\n",
       "mpl.default_extension = \"png\";var comm_websocket_adapter = function(comm) {\n",
       "    // Create a \"websocket\"-like object which calls the given IPython comm\n",
       "    // object with the appropriate methods. Currently this is a non binary\n",
       "    // socket, so there is still some room for performance tuning.\n",
       "    var ws = {};\n",
       "\n",
       "    ws.close = function() {\n",
       "        comm.close()\n",
       "    };\n",
       "    ws.send = function(m) {\n",
       "        //console.log('sending', m);\n",
       "        comm.send(m);\n",
       "    };\n",
       "    // Register the callback with on_msg.\n",
       "    comm.on_msg(function(msg) {\n",
       "        //console.log('receiving', msg['content']['data'], msg);\n",
       "        // Pass the mpl event to the overriden (by mpl) onmessage function.\n",
       "        ws.onmessage(msg['content']['data'])\n",
       "    });\n",
       "    return ws;\n",
       "}\n",
       "\n",
       "mpl.mpl_figure_comm = function(comm, msg) {\n",
       "    // This is the function which gets called when the mpl process\n",
       "    // starts-up an IPython Comm through the \"matplotlib\" channel.\n",
       "\n",
       "    var id = msg.content.data.id;\n",
       "    // Get hold of the div created by the display call when the Comm\n",
       "    // socket was opened in Python.\n",
       "    var element = $(\"#\" + id);\n",
       "    var ws_proxy = comm_websocket_adapter(comm)\n",
       "\n",
       "    function ondownload(figure, format) {\n",
       "        window.open(figure.imageObj.src);\n",
       "    }\n",
       "\n",
       "    var fig = new mpl.figure(id, ws_proxy,\n",
       "                           ondownload,\n",
       "                           element.get(0));\n",
       "\n",
       "    // Call onopen now - mpl needs it, as it is assuming we've passed it a real\n",
       "    // web socket which is closed, not our websocket->open comm proxy.\n",
       "    ws_proxy.onopen();\n",
       "\n",
       "    fig.parent_element = element.get(0);\n",
       "    fig.cell_info = mpl.find_output_cell(\"<div id='\" + id + \"'></div>\");\n",
       "    if (!fig.cell_info) {\n",
       "        console.error(\"Failed to find cell for figure\", id, fig);\n",
       "        return;\n",
       "    }\n",
       "\n",
       "    var output_index = fig.cell_info[2]\n",
       "    var cell = fig.cell_info[0];\n",
       "\n",
       "};\n",
       "\n",
       "mpl.figure.prototype.handle_close = function(fig, msg) {\n",
       "    var width = fig.canvas.width/mpl.ratio\n",
       "    fig.root.unbind('remove')\n",
       "\n",
       "    // Update the output cell to use the data from the current canvas.\n",
       "    fig.push_to_output();\n",
       "    var dataURL = fig.canvas.toDataURL();\n",
       "    // Re-enable the keyboard manager in IPython - without this line, in FF,\n",
       "    // the notebook keyboard shortcuts fail.\n",
       "    IPython.keyboard_manager.enable()\n",
       "    $(fig.parent_element).html('<img src=\"' + dataURL + '\" width=\"' + width + '\">');\n",
       "    fig.close_ws(fig, msg);\n",
       "}\n",
       "\n",
       "mpl.figure.prototype.close_ws = function(fig, msg){\n",
       "    fig.send_message('closing', msg);\n",
       "    // fig.ws.close()\n",
       "}\n",
       "\n",
       "mpl.figure.prototype.push_to_output = function(remove_interactive) {\n",
       "    // Turn the data on the canvas into data in the output cell.\n",
       "    var width = this.canvas.width/mpl.ratio\n",
       "    var dataURL = this.canvas.toDataURL();\n",
       "    this.cell_info[1]['text/html'] = '<img src=\"' + dataURL + '\" width=\"' + width + '\">';\n",
       "}\n",
       "\n",
       "mpl.figure.prototype.updated_canvas_event = function() {\n",
       "    // Tell IPython that the notebook contents must change.\n",
       "    IPython.notebook.set_dirty(true);\n",
       "    this.send_message(\"ack\", {});\n",
       "    var fig = this;\n",
       "    // Wait a second, then push the new image to the DOM so\n",
       "    // that it is saved nicely (might be nice to debounce this).\n",
       "    setTimeout(function () { fig.push_to_output() }, 1000);\n",
       "}\n",
       "\n",
       "mpl.figure.prototype._init_toolbar = function() {\n",
       "    var fig = this;\n",
       "\n",
       "    var nav_element = $('<div/>')\n",
       "    nav_element.attr('style', 'width: 100%');\n",
       "    this.root.append(nav_element);\n",
       "\n",
       "    // Define a callback function for later on.\n",
       "    function toolbar_event(event) {\n",
       "        return fig.toolbar_button_onclick(event['data']);\n",
       "    }\n",
       "    function toolbar_mouse_event(event) {\n",
       "        return fig.toolbar_button_onmouseover(event['data']);\n",
       "    }\n",
       "\n",
       "    for(var toolbar_ind in mpl.toolbar_items){\n",
       "        var name = mpl.toolbar_items[toolbar_ind][0];\n",
       "        var tooltip = mpl.toolbar_items[toolbar_ind][1];\n",
       "        var image = mpl.toolbar_items[toolbar_ind][2];\n",
       "        var method_name = mpl.toolbar_items[toolbar_ind][3];\n",
       "\n",
       "        if (!name) { continue; };\n",
       "\n",
       "        var button = $('<button class=\"btn btn-default\" href=\"#\" title=\"' + name + '\"><i class=\"fa ' + image + ' fa-lg\"></i></button>');\n",
       "        button.click(method_name, toolbar_event);\n",
       "        button.mouseover(tooltip, toolbar_mouse_event);\n",
       "        nav_element.append(button);\n",
       "    }\n",
       "\n",
       "    // Add the status bar.\n",
       "    var status_bar = $('<span class=\"mpl-message\" style=\"text-align:right; float: right;\"/>');\n",
       "    nav_element.append(status_bar);\n",
       "    this.message = status_bar[0];\n",
       "\n",
       "    // Add the close button to the window.\n",
       "    var buttongrp = $('<div class=\"btn-group inline pull-right\"></div>');\n",
       "    var button = $('<button class=\"btn btn-mini btn-primary\" href=\"#\" title=\"Stop Interaction\"><i class=\"fa fa-power-off icon-remove icon-large\"></i></button>');\n",
       "    button.click(function (evt) { fig.handle_close(fig, {}); } );\n",
       "    button.mouseover('Stop Interaction', toolbar_mouse_event);\n",
       "    buttongrp.append(button);\n",
       "    var titlebar = this.root.find($('.ui-dialog-titlebar'));\n",
       "    titlebar.prepend(buttongrp);\n",
       "}\n",
       "\n",
       "mpl.figure.prototype._root_extra_style = function(el){\n",
       "    var fig = this\n",
       "    el.on(\"remove\", function(){\n",
       "\tfig.close_ws(fig, {});\n",
       "    });\n",
       "}\n",
       "\n",
       "mpl.figure.prototype._canvas_extra_style = function(el){\n",
       "    // this is important to make the div 'focusable\n",
       "    el.attr('tabindex', 0)\n",
       "    // reach out to IPython and tell the keyboard manager to turn it's self\n",
       "    // off when our div gets focus\n",
       "\n",
       "    // location in version 3\n",
       "    if (IPython.notebook.keyboard_manager) {\n",
       "        IPython.notebook.keyboard_manager.register_events(el);\n",
       "    }\n",
       "    else {\n",
       "        // location in version 2\n",
       "        IPython.keyboard_manager.register_events(el);\n",
       "    }\n",
       "\n",
       "}\n",
       "\n",
       "mpl.figure.prototype._key_event_extra = function(event, name) {\n",
       "    var manager = IPython.notebook.keyboard_manager;\n",
       "    if (!manager)\n",
       "        manager = IPython.keyboard_manager;\n",
       "\n",
       "    // Check for shift+enter\n",
       "    if (event.shiftKey && event.which == 13) {\n",
       "        this.canvas_div.blur();\n",
       "        event.shiftKey = false;\n",
       "        // Send a \"J\" for go to next cell\n",
       "        event.which = 74;\n",
       "        event.keyCode = 74;\n",
       "        manager.command_mode();\n",
       "        manager.handle_keydown(event);\n",
       "    }\n",
       "}\n",
       "\n",
       "mpl.figure.prototype.handle_save = function(fig, msg) {\n",
       "    fig.ondownload(fig, null);\n",
       "}\n",
       "\n",
       "\n",
       "mpl.find_output_cell = function(html_output) {\n",
       "    // Return the cell and output element which can be found *uniquely* in the notebook.\n",
       "    // Note - this is a bit hacky, but it is done because the \"notebook_saving.Notebook\"\n",
       "    // IPython event is triggered only after the cells have been serialised, which for\n",
       "    // our purposes (turning an active figure into a static one), is too late.\n",
       "    var cells = IPython.notebook.get_cells();\n",
       "    var ncells = cells.length;\n",
       "    for (var i=0; i<ncells; i++) {\n",
       "        var cell = cells[i];\n",
       "        if (cell.cell_type === 'code'){\n",
       "            for (var j=0; j<cell.output_area.outputs.length; j++) {\n",
       "                var data = cell.output_area.outputs[j];\n",
       "                if (data.data) {\n",
       "                    // IPython >= 3 moved mimebundle to data attribute of output\n",
       "                    data = data.data;\n",
       "                }\n",
       "                if (data['text/html'] == html_output) {\n",
       "                    return [cell, data, j];\n",
       "                }\n",
       "            }\n",
       "        }\n",
       "    }\n",
       "}\n",
       "\n",
       "// Register the function which deals with the matplotlib target/channel.\n",
       "// The kernel may be null if the page has been refreshed.\n",
       "if (IPython.notebook.kernel != null) {\n",
       "    IPython.notebook.kernel.comm_manager.register_target('matplotlib', mpl.mpl_figure_comm);\n",
       "}\n"
      ],
      "text/plain": [
       "<IPython.core.display.Javascript object>"
      ]
     },
     "metadata": {},
     "output_type": "display_data"
    },
    {
     "data": {
      "text/html": [
       "<img src=\"data:image/png;base64,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\" width=\"640\">"
      ],
      "text/plain": [
       "<IPython.core.display.HTML object>"
      ]
     },
     "metadata": {},
     "output_type": "display_data"
    }
   ],
   "source": [
    "states = [q1, q2, q3, u1, u2, u3]\n",
    "fig, axes = plt.subplots(6, 1)\n",
    "\n",
    "for i, ax in enumerate(axes):\n",
    "    ax.plot(times, traj[:, i]*180/np.pi)\n",
    "    ax.set_ylabel(sm.latex(states[i], mode='inline'))\n",
    "\n",
    "plt.tight_layout()"
   ]
  },
  {
   "cell_type": "markdown",
   "metadata": {
    "deletable": true,
    "editable": true
   },
   "source": [
    "**Note** that angles and angular rates are in degrees and degrees/sec, respectively"
   ]
  },
  {
   "cell_type": "markdown",
   "metadata": {
    "deletable": true,
    "editable": true
   },
   "source": [
    "# 4. 3D Visualization\n",
    "We're going to use the pydy.viz package to simulate the system. We'll need to import all the shapes we want to use (Torus, Cylinder, Sphere) and a few other items. Due to the fact that \"scene\" cannot be passed any aguments that contain symbols, and due to the fact that we can't access the state symbols directly from 'sys', we have to create the \"scene\" object by explicitly specifying all of the parameters when calling the method. In order to determine these parameters as a they vary in time, we must call them again, this time *outside* the integration loop, and save the output to temporary values."
   ]
  },
  {
   "cell_type": "code",
   "execution_count": 55,
   "metadata": {
    "collapsed": true,
    "deletable": true,
    "editable": true,
    "jupyter": {
     "outputs_hidden": true
    }
   },
   "outputs": [],
   "source": [
    "from pydy.viz import Torus, Cylinder, Sphere, VisualizationFrame, Scene"
   ]
  },
  {
   "cell_type": "code",
   "execution_count": 56,
   "metadata": {
    "collapsed": false,
    "deletable": true,
    "editable": true,
    "jupyter": {
     "outputs_hidden": false
    }
   },
   "outputs": [],
   "source": [
    "# Ballast point motions (all static for now)\n",
    "ballast1 = np.ones((len(times), 1))*-constants[Rs]\n",
    "ballast2 = np.zeros((len(times), 2))\n",
    "ballast3 = np.ones((len(times), 1))*constants[Rs]\n",
    "ballast4 = np.zeros((len(times), 2))\n",
    "\n",
    "ballast_traj = np.append(np.append(np.append(ballast1, ballast2, axis=1), ballast3, axis=1), ballast4,axis=1)"
   ]
  },
  {
   "cell_type": "code",
   "execution_count": 57,
   "metadata": {
    "collapsed": true,
    "deletable": true,
    "editable": true,
    "jupyter": {
     "outputs_hidden": true
    }
   },
   "outputs": [],
   "source": [
    "# Tack on the point mass motions (copied from def_motion)\n",
    "traj_pms = np.zeros((len(times), 6))\n",
    "\n",
    "for k in range(len(times)):\n",
    "    t = times[k]\n",
    "    if t < 5:\n",
    "        traj_pms[k, 0] = 0  # xp1\n",
    "        traj_pms[k, 1] = constants[Rs]  # yp1\n",
    "        traj_pms[k, 2] = 0  # zp1\n",
    "        \n",
    "        traj_pms[k, 3] = 0  # xp2\n",
    "        traj_pms[k, 4] = -constants[Rs]  # yp2\n",
    "        traj_pms[k, 5] = 0  # zp2\n",
    "    \n",
    "    elif t >= 5 and t < 15:\n",
    "        traj_pms[k, 0] = constants[Rs]*np.cos((np.pi/2)*(1 - ((t-5)/10)))\n",
    "        traj_pms[k, 1] = constants[Rs]*np.sin((np.pi/2)*(1 - ((t-5)/10)))\n",
    "        traj_pms[k, 2] = 5*(t-5)/10\n",
    "\n",
    "        traj_pms[k, 3] = constants[Rs]*np.cos((np.pi/2)*(1 - ((t-5)/10)))\n",
    "        traj_pms[k, 4] = -constants[Rs]*np.sin((np.pi/2)*(1 - ((t-5)/10)))\n",
    "        traj_pms[k, 5] = 0.8*(t-5)/10\n",
    "    \n",
    "    else:\n",
    "        traj_pms[k, 0] = constants[Rs]\n",
    "        traj_pms[k, 1] = 0\n",
    "        traj_pms[k, 2] = 0.8\n",
    "\n",
    "        traj_pms[k, 3] = constants[Rs]\n",
    "        traj_pms[k, 4] = 0\n",
    "        traj_pms[k, 5] = 0.8\n",
    "        \n",
    "traj_all = np.append(traj, np.append(traj_pms, ballast_traj, axis=1), axis=1)"
   ]
  },
  {
   "cell_type": "markdown",
   "metadata": {
    "deletable": true,
    "editable": true
   },
   "source": [
    "Now that we've re-captured the parameters of interest, we can set up the animation by placing colored spheres for each point. The Point Masses are represented by red spheres while the Ballast Masses are represented by green spheres."
   ]
  },
  {
   "cell_type": "code",
   "execution_count": 58,
   "metadata": {
    "collapsed": true,
    "deletable": true,
    "editable": true,
    "jupyter": {
     "outputs_hidden": true
    }
   },
   "outputs": [],
   "source": [
    "pm1_sph = Sphere(0.5, color='red')\n",
    "pm2_sph = Sphere(0.5, color='red')\n",
    "pblst1_sph = Sphere(0.75, color='green')\n",
    "pblst2_sph = Sphere(0.75, color='green')"
   ]
  },
  {
   "cell_type": "code",
   "execution_count": 59,
   "metadata": {
    "collapsed": true,
    "deletable": true,
    "editable": true,
    "jupyter": {
     "outputs_hidden": true
    }
   },
   "outputs": [],
   "source": [
    "torus_s = Torus(10, 0.5, color='blue')\n",
    "w_vector = Cylinder(10, 0.1, color='magenta')"
   ]
  },
  {
   "cell_type": "code",
   "execution_count": 60,
   "metadata": {
    "collapsed": true,
    "deletable": true,
    "editable": true,
    "jupyter": {
     "outputs_hidden": true
    }
   },
   "outputs": [],
   "source": [
    "Bz = B.orientnew('Bz', 'Axis', [np.pi/2, B.x])"
   ]
  },
  {
   "cell_type": "code",
   "execution_count": 61,
   "metadata": {
    "collapsed": true,
    "deletable": true,
    "editable": true,
    "jupyter": {
     "outputs_hidden": true
    }
   },
   "outputs": [],
   "source": [
    "vf1 = VisualizationFrame('P_1', B, P1, pm1_sph)\n",
    "vf2 = VisualizationFrame('P_2', B, P2, pm2_sph)\n",
    "vfbp1 = VisualizationFrame('Pblst_1', B, Pblst1, pblst1_sph)\n",
    "vfbp2 = VisualizationFrame('Pblst_2', B, Pblst2, pblst2_sph)\n",
    "vfvec = VisualizationFrame('w_vector', Bz, PBs.locatenew('y', 5 * Bz.y), w_vector)\n",
    "vftor = VisualizationFrame('station', B, PBs, torus_s)"
   ]
  },
  {
   "cell_type": "code",
   "execution_count": 62,
   "metadata": {
    "collapsed": true,
    "deletable": true,
    "editable": true,
    "jupyter": {
     "outputs_hidden": true
    }
   },
   "outputs": [],
   "source": [
    "states = sys.states\n",
    "points_pos = [xp1, yp1, zp1, xp2, yp2, zp2]\n",
    "ballast_pos = [xpblst1, ypblst1, zpblst1, xpblst2, ypblst2, zpblst2]"
   ]
  },
  {
   "cell_type": "code",
   "execution_count": 63,
   "metadata": {
    "collapsed": false,
    "deletable": true,
    "editable": true,
    "jupyter": {
     "outputs_hidden": false
    }
   },
   "outputs": [],
   "source": [
    "states_symbols = states + points_pos + ballast_pos"
   ]
  },
  {
   "cell_type": "code",
   "execution_count": 64,
   "metadata": {
    "collapsed": true,
    "deletable": true,
    "editable": true,
    "jupyter": {
     "outputs_hidden": true
    }
   },
   "outputs": [],
   "source": [
    "scene = Scene(N, O, vf1, vf2, vfbp1, vfbp2, vfvec, vftor, times=times, constants=constants, states_symbols=states_symbols, states_trajectories=traj_all)"
   ]
  },
  {
   "cell_type": "markdown",
   "metadata": {
    "deletable": true,
    "editable": true
   },
   "source": [
    "...aaaaaaand go!  \n",
    "**Note:** The 3D visualization begins zoomed IN to the point where the torus is not visible. Once it appears everyting has loaded, zoom out a few ticks before pressing 'Play'"
   ]
  },
  {
   "cell_type": "code",
   "execution_count": 65,
   "metadata": {
    "collapsed": false,
    "deletable": true,
    "editable": true,
    "jupyter": {
     "outputs_hidden": false
    }
   },
   "outputs": [],
   "source": [
    "scene.display_ipython()"
   ]
  },
  {
   "cell_type": "markdown",
   "metadata": {
    "deletable": true,
    "editable": true
   },
   "source": [
    "# 5. Linearize\n",
    "What lies below is an initial attempt at linearizing the system as a first step toward building a controller to control the Ballast masses. Linearization takes place about an operating point, which in this case, is the \"balanced\" system (C.M. located at geometric center of torus)."
   ]
  },
  {
   "cell_type": "code",
   "execution_count": 66,
   "metadata": {
    "collapsed": true,
    "deletable": true,
    "editable": true,
    "jupyter": {
     "outputs_hidden": true
    }
   },
   "outputs": [],
   "source": [
    "point_states = {xp1: 0, yp1: Rs, zp1: 0,\n",
    "                xp2: 0, yp2:-Rs, zp2: 0,\n",
    "                xp1.diff(): 0, yp1.diff(): 0, zp1.diff(): 0,\n",
    "                xp2.diff(): 0, yp2.diff(): 0, zp2.diff(): 0,\n",
    "                xpblst1:-Rs, ypblst1: 0, zpblst1: 0,\n",
    "                xpblst2: Rs, ypblst2: 0, zpblst2: 0,\n",
    "                xpblst1.diff(): 0, ypblst1.diff(): 0, zpblst1.diff(): 0,\n",
    "                xpblst2.diff(): 0, ypblst2.diff(): 0, zpblst2.diff(): 0}"
   ]
  },
  {
   "cell_type": "code",
   "execution_count": 67,
   "metadata": {
    "collapsed": true,
    "deletable": true,
    "editable": true,
    "jupyter": {
     "outputs_hidden": true
    }
   },
   "outputs": [],
   "source": [
    "v0 = sm.zeros(8, 1)\n",
    "v0[2] = 0.1  # Assign 0.1 to u3's zeroing point (the angular velocity about Body-frame B.z axis)"
   ]
  },
  {
   "cell_type": "code",
   "execution_count": 68,
   "metadata": {
    "collapsed": true,
    "deletable": true,
    "editable": true,
    "jupyter": {
     "outputs_hidden": true
    }
   },
   "outputs": [],
   "source": [
    "v = sm.Matrix([q2, q3, u1, u2, u3, u1.diff(), u2.diff(), u3.diff()])\n",
    "#v = sm.Matrix([q1, q2, q3, u1, u2, u3, u1.diff(), u2.diff(), u3.diff(), xpblst1, ypblst1, zpblst1, xpblst2, ypblst2, zpblst2])"
   ]
  },
  {
   "cell_type": "code",
   "execution_count": 69,
   "metadata": {
    "collapsed": true,
    "deletable": true,
    "editable": true,
    "jupyter": {
     "outputs_hidden": true
    }
   },
   "outputs": [],
   "source": [
    "v_subs = dict(zip(v, v0))"
   ]
  },
  {
   "cell_type": "code",
   "execution_count": 70,
   "metadata": {
    "collapsed": true,
    "deletable": true,
    "editable": true,
    "jupyter": {
     "outputs_hidden": true
    }
   },
   "outputs": [],
   "source": [
    "frstar = frstar.subs(constants).subs(point_states).subs({Rs: 10})\n",
    "f_lin = frstar.subs(v_subs) + frstar.jacobian(v).subs(v_subs) * (v - v0)"
   ]
  },
  {
   "cell_type": "code",
   "execution_count": 71,
   "metadata": {
    "collapsed": true,
    "deletable": true,
    "editable": true,
    "jupyter": {
     "outputs_hidden": true
    }
   },
   "outputs": [],
   "source": [
    "q = sm.Matrix([q2, q3])\n",
    "u = sm.Matrix([u1, u2, u3])"
   ]
  },
  {
   "cell_type": "code",
   "execution_count": 72,
   "metadata": {
    "collapsed": true,
    "deletable": true,
    "editable": true,
    "jupyter": {
     "outputs_hidden": true
    }
   },
   "outputs": [],
   "source": [
    "K = f_lin.jacobian(q)"
   ]
  },
  {
   "cell_type": "code",
   "execution_count": 73,
   "metadata": {
    "collapsed": true,
    "deletable": true,
    "editable": true,
    "jupyter": {
     "outputs_hidden": true
    }
   },
   "outputs": [],
   "source": [
    "C = f_lin.jacobian(u)"
   ]
  },
  {
   "cell_type": "code",
   "execution_count": 74,
   "metadata": {
    "collapsed": true,
    "deletable": true,
    "editable": true,
    "jupyter": {
     "outputs_hidden": true
    }
   },
   "outputs": [],
   "source": [
    "M = f_lin.jacobian(u.diff())"
   ]
  },
  {
   "cell_type": "code",
   "execution_count": 75,
   "metadata": {
    "collapsed": true,
    "deletable": true,
    "editable": true,
    "jupyter": {
     "outputs_hidden": true
    }
   },
   "outputs": [],
   "source": [
    "F = f_lin - M * u.diff() - C * u - K * q"
   ]
  },
  {
   "cell_type": "code",
   "execution_count": 76,
   "metadata": {
    "collapsed": false,
    "deletable": true,
    "editable": true,
    "jupyter": {
     "outputs_hidden": false
    },
    "scrolled": true
   },
   "outputs": [
    {
     "data": {
      "text/latex": [
       "$$\\left[\\begin{matrix}0 & 0 & 0 & 1 & 0\\\\0 & 0 & 0 & 0 & 1\\\\0 & 0 & 0 & 0 & 0\\\\0.0210536044362292 & 0 & 0 & 0 & -0.310536044362292\\\\0 & 0.000769230769230769 & 0 & 0.107692307692308 & 0\\end{matrix}\\right]$$"
      ],
      "text/plain": [
       "Matrix([\n",
       "[                 0,                    0, 0,                 1,                  0],\n",
       "[                 0,                    0, 0,                 0,                  1],\n",
       "[                 0,                    0, 0,                 0,                  0],\n",
       "[0.0210536044362292,                    0, 0,                 0, -0.310536044362292],\n",
       "[                 0, 0.000769230769230769, 0, 0.107692307692308,                  0]])"
      ]
     },
     "execution_count": 76,
     "metadata": {},
     "output_type": "execute_result"
    }
   ],
   "source": [
    "Astate = sm.zeros(2, 3).row_join(sm.eye(2)).col_join(-M.LUsolve(K).row_join(-M.LUsolve(C)))\n",
    "Astate"
   ]
  },
  {
   "cell_type": "markdown",
   "metadata": {
    "deletable": true,
    "editable": true
   },
   "source": [
    "The state matrix A shown above *supposedly* represents the linearized system about a zero operating point, although it would seem that something may be in error. It is at this point where more time beyond the limited amount available for this project must be used to figure out the linearization process."
   ]
  },
  {
   "cell_type": "markdown",
   "metadata": {
    "deletable": true,
    "editable": true
   },
   "source": [
    "# 6. Conclusion"
   ]
  },
  {
   "cell_type": "markdown",
   "metadata": {
    "deletable": true,
    "editable": true
   },
   "source": [
    "The initial objective of this project proved to be far loftier than initially expected, and unfortunately only a portion of the objectives were obtained. An analogous system consisting of multiple point masses, some of which are prescribed motion in time, was formed and equations of motion derived using Kane's Method, followed by simulating, plotting the state vectors through time, and visualizing the motion using 3D shapes. Various body transformation methods were explored to determine the most suitable choice of transformations to intuit the state of the system from the state vectors alone. A controller design was attempted but ultimately was not completed due to a seemingly erroneous linearization of the state space. Though incomplete, we can still claim with confidence that the non-linear equations of motion derived using Kane's Method accurately described the motion of the system as we would expect it to behave.\n",
    "\n",
    "Future work should strive to *properly* linearize the system, or alternatively, attempt to design a controller around a non-linear plant. Following that, the interaction between the point masses and the station can be modeled to account for action/reactions such as those that take place as a human walks along a surface. Further work could be done to account for various external forces such as solar wind, gravitational gradients acting radially outward from any nearby cellestial bodies, and aerodynamic drag (if the station were assumed to be in low-Earth Orbit)."
   ]
  }
 ],
 "metadata": {
  "kernelspec": {
   "display_name": "Python 3",
   "language": "python",
   "name": "python3"
  },
  "language_info": {
   "codemirror_mode": {
    "name": "ipython",
    "version": 3
   },
   "file_extension": ".py",
   "mimetype": "text/x-python",
   "name": "python",
   "nbconvert_exporter": "python",
   "pygments_lexer": "ipython3",
   "version": "3.8.5"
  }
 },
 "nbformat": 4,
 "nbformat_minor": 4
}
