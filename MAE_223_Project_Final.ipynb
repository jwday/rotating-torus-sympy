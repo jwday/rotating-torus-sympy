{
 "cells": [
  {
   "cell_type": "markdown",
   "metadata": {
    "deletable": true,
    "editable": true
   },
   "source": [
    "# Modeling a Torque-Free Rotating Body in Space\n",
    "Josh W. Day  \n",
    "MAE 223 - Multibody Dynamics (Fall 2017)  \n",
    "Final Project\n",
    "\n",
    "- *Estimated run-time to completion: **1m 30s***"
   ]
  },
  {
   "cell_type": "markdown",
   "metadata": {
    "deletable": true,
    "editable": true
   },
   "source": [
    "# 1. Introduction"
   ]
  },
  {
   "cell_type": "markdown",
   "metadata": {
    "deletable": true,
    "editable": true
   },
   "source": [
    "At this moment in history, mankind is on a precipice as it prepares to swim away from the shores of the cosmic ocean. In order to embark on this journey, we must be prepared to face the plethora of dangers that comes with living in space for an extended period of time - one in particular being the lack of gravity and its effect on the human body. Without the force of gravity acting on us, our bodies slowly deteriorate through decreasing bone density and muscle mass. For short time spans on the order of a year, this is a recoverable condition - however, beyond that, the effects begin to become more and more detrimental. If we are to begin thinking seriously about sending people to places beyond the moon or Mars, a viable method must be developed to simulate gravity for astronauts. One of the oldest and most-often considered methods is to use an enclosed, symmetric environment and allow it to rotate along a central axis to create a *rotogravic environment* on the interior - one that feigns a gravitational force via an individual's inertia in an inertial reference frame, or *centrifugal force*.\n",
    "\n",
    "\n",
    "The idea is prevalent both in academic literature and fiction alike, and while this report will make no attempt to solve *all* the problems associated with attempting such a monumental engineering feat (there are many), it will demonstrate this student's attempt to model and simulate the dynamic motion of one configuration in particular, specifically to become familiar with how the motion of the system will be affected by the motion of hypothetical astronauts, equipment, etc. within the confines of the station.\n",
    "\n",
    "The original objective set out to be accomplished would seen the formulation of an active controller which would work to control the position of \"ballast\" masses located on the circumference of the station in order to balance out any shifts in mass due to the aforementioned motion of people, equipment, etc. within the station, as shown in Figure 1 below.\n",
    "\n",
    "\n",
    "![](SysOutline1.PNG)\n",
    "\n",
    "The inspiration for this project stemmed from an idea involving water or some other fluid stored along the circumference to act as a passive mass balancing system and motion damper, however that was deemed to lie beyond the scope of this project, and a simpler system was examined instead.\n",
    "\n"
   ]
  },
  {
   "cell_type": "markdown",
   "metadata": {
    "deletable": true,
    "editable": true
   },
   "source": [
    "# 2. Formulation"
   ]
  },
  {
   "cell_type": "markdown",
   "metadata": {
    "deletable": true,
    "editable": true
   },
   "source": [
    "The system is modeled as a simple torus with major diameter significantly larger than inner tube diameter, fixed to a body frame *B*. Three rotations are required in order to orient to the body-fixed axes, and the order of rotation will certainly affect the interpretations of the results. As is generally well-known, two separate rotations performed around X then Y are not necessarily equal to the same rotations performed about Y then X axes. Therefore, it is necessary to pay close attention to which generalized coordinate revolves the reference frame about which axis.\n",
    "\n",
    "The mass of all the system components are treated as constants, but since the location of each point mass is prescribed through time, the variables that describe the locations must be introduced as *dynamic symbols*."
   ]
  },
  {
   "cell_type": "markdown",
   "metadata": {
    "deletable": true,
    "editable": true
   },
   "source": [
    "The formulation of the equations of motions for this system begins as usual with definition of our environment..."
   ]
  },
  {
   "cell_type": "code",
   "execution_count": 73,
   "metadata": {
    "deletable": true,
    "editable": true
   },
   "outputs": [],
   "source": [
    "import sympy as sm\n",
    "import sympy.physics.mechanics as me\n",
    "import numpy as np\n",
    "import matplotlib.pyplot as plt\n",
    "from pydy.system import System\n",
    "me.init_vprinting(use_latex=True, pretty_print=False)\n",
    "\n",
    "%matplotlib widget"
   ]
  },
  {
   "cell_type": "markdown",
   "metadata": {
    "deletable": true,
    "editable": true
   },
   "source": [
    "...and then defining a few key parameters of our system:\n",
    "- Station Mass, $m_s$\n",
    "- Station Radius, $R_s$\n",
    "- Station Length (in the axisymmetric direction), $L_s$\n",
    "- Initial angular velocity about axis of symmetry, $\\omega_0$"
   ]
  },
  {
   "cell_type": "code",
   "execution_count": 74,
   "metadata": {
    "deletable": true,
    "editable": true
   },
   "outputs": [],
   "source": [
    "ms, Rs, Ls, w0 = sm.symbols('m_s, R_s, L_s, omega_0')\n",
    "t = me.dynamicsymbols._t"
   ]
  },
  {
   "cell_type": "markdown",
   "metadata": {
    "deletable": true,
    "editable": true
   },
   "source": [
    "Next we define dynamic symbols to represent the cartesian locations of interest:\n",
    "- XYZ locations of the two point masses, and their corresponding mass symbols\n",
    "- XYZ locations of the two ballast masses, and their corresponding mass symbols"
   ]
  },
  {
   "cell_type": "code",
   "execution_count": 75,
   "metadata": {
    "deletable": true,
    "editable": true
   },
   "outputs": [],
   "source": [
    "# Measure numbers for vector that locates center of station body relative to CM\n",
    "# xpbs, ypbs, zpbs = me.dynamicsymbols('x_pbs, y_pbs, z_pbs')"
   ]
  },
  {
   "cell_type": "code",
   "execution_count": 76,
   "metadata": {
    "deletable": true,
    "editable": true
   },
   "outputs": [],
   "source": [
    "# Measure numbers for vector that locates Point P1 relative to CM, which will later be prescribed as a function of time\n",
    "mp1 = sm.symbols('m_p1')\n",
    "xp1, yp1, zp1 = me.dynamicsymbols('x_p1, y_p1, z_p1')"
   ]
  },
  {
   "cell_type": "code",
   "execution_count": 77,
   "metadata": {
    "deletable": true,
    "editable": true
   },
   "outputs": [],
   "source": [
    "# Measure numbers for vector that locates Point P2 relative to CM, which will later be prescribed as a function of time\n",
    "mp2 = sm.symbols('m_p2')\n",
    "xp2, yp2, zp2 = me.dynamicsymbols('x_p2, y_p2, z_p2')"
   ]
  },
  {
   "cell_type": "code",
   "execution_count": 78,
   "metadata": {
    "deletable": true,
    "editable": true
   },
   "outputs": [],
   "source": [
    "# Measure numbers for vector that locates Point Pblst1 relative to CM, which will later be prescribed as a function of time\n",
    "mpblst = sm.symbols('m_ballast')\n",
    "xpblst1, ypblst1, zpblst1 = me.dynamicsymbols('x_p_blst_1, y_p_blst_1, z_p_blst_1')"
   ]
  },
  {
   "cell_type": "code",
   "execution_count": 79,
   "metadata": {
    "deletable": true,
    "editable": true
   },
   "outputs": [],
   "source": [
    "# Measure numbers for vector that locates Point P2 relative to CM, which will later be prescribed as a function of time\n",
    "xpblst2, ypblst2, zpblst2 = me.dynamicsymbols('x_p_blst_2, y_p_blst_2, z_p_blst_2')"
   ]
  },
  {
   "cell_type": "markdown",
   "metadata": {
    "deletable": true,
    "editable": true
   },
   "source": [
    "## 2.1 Generalized Coordinates\n",
    "- q1: Angle of rotation of intermediate RF N' about N.x axis\n",
    "- q2: Angle of rotation of intermediate RF N'' about N'.y axis\n",
    "- q3: Angle of rotation of body-fixed RF B about N''.z axis"
   ]
  },
  {
   "cell_type": "code",
   "execution_count": 80,
   "metadata": {
    "deletable": true,
    "editable": true
   },
   "outputs": [],
   "source": [
    "q1, q2, q3 = me.dynamicsymbols('q1 q2 q3')"
   ]
  },
  {
   "cell_type": "markdown",
   "metadata": {
    "deletable": true,
    "editable": true
   },
   "source": [
    "## 2.2 Generalized Speeds\n",
    "All generalized speeds are defined by the trivial definition, e.g. the derivatives of the generalized coordinates"
   ]
  },
  {
   "cell_type": "code",
   "execution_count": 81,
   "metadata": {
    "collapsed": false,
    "deletable": true,
    "editable": true,
    "jupyter": {
     "outputs_hidden": false
    }
   },
   "outputs": [],
   "source": [
    "u1, u2, u3 = me.dynamicsymbols('u1 u2 u3')"
   ]
  },
  {
   "cell_type": "markdown",
   "metadata": {
    "deletable": true,
    "editable": true
   },
   "source": [
    "## 2.3 Reference Frames\n",
    "This is where things can get interesting. Depending on how on chooses to perform their body transformation, they will be required to interpret their results differently. Iteration and multiple trials led to using a simple Tait-Bryan XYZ transformation for this project due to a tendency for Euler transformations to result in a singularity (gimbal lock)."
   ]
  },
  {
   "cell_type": "code",
   "execution_count": 82,
   "metadata": {
    "collapsed": false,
    "deletable": true,
    "editable": true,
    "jupyter": {
     "outputs_hidden": false
    }
   },
   "outputs": [],
   "source": [
    "N = me.ReferenceFrame('N')\n",
    "B = N.orientnew('B', 'Body', [q1, q2, q3], 'XYZ')"
   ]
  },
  {
   "cell_type": "markdown",
   "metadata": {
    "deletable": true,
    "editable": true
   },
   "source": [
    "We should take care to remember from this point forward is that the angle $q_1$ is not measured directly from the body-fixed RF B, and instead is transformed through the intermediate RF N''."
   ]
  },
  {
   "cell_type": "markdown",
   "metadata": {
    "deletable": true,
    "editable": true
   },
   "source": [
    "## 2.4 Kinematic Differential Equations"
   ]
  },
  {
   "cell_type": "code",
   "execution_count": 83,
   "metadata": {
    "deletable": true,
    "editable": true
   },
   "outputs": [],
   "source": [
    "kdes = [u1 - q1.diff(),\n",
    "        u2 - q2.diff(),\n",
    "        u3 - q3.diff()]"
   ]
  },
  {
   "cell_type": "code",
   "execution_count": 84,
   "metadata": {
    "deletable": true,
    "editable": true
   },
   "outputs": [],
   "source": [
    "qdots = sm.solve(kdes, q1.diff(), q2.diff(), q3.diff())"
   ]
  },
  {
   "cell_type": "markdown",
   "metadata": {
    "deletable": true,
    "editable": true
   },
   "source": [
    "## 2.5 Substitute in the Generalized Speeds"
   ]
  },
  {
   "cell_type": "code",
   "execution_count": 85,
   "metadata": {
    "collapsed": false,
    "deletable": true,
    "editable": true,
    "jupyter": {
     "outputs_hidden": false
    }
   },
   "outputs": [],
   "source": [
    "w_B_N = B.ang_vel_in(N).subs(qdots).simplify()\n",
    "B.set_ang_vel(N, w_B_N)"
   ]
  },
  {
   "cell_type": "markdown",
   "metadata": {
    "deletable": true,
    "editable": true
   },
   "source": [
    "## 2.6 Points (Positions of which are Specified Inputs)"
   ]
  },
  {
   "cell_type": "code",
   "execution_count": 86,
   "metadata": {
    "deletable": true,
    "editable": true
   },
   "outputs": [],
   "source": [
    "O = me.Point('O')  # Point of origin at CM"
   ]
  },
  {
   "cell_type": "markdown",
   "metadata": {
    "deletable": true,
    "editable": true
   },
   "source": [
    "##### - IMPORTANT -\n",
    "The CM stays fixed at Point O. They are one and the same. As mass moves around by prescribed motion, the station also moves in reaction such that the CM of the *system* stays fixed in space"
   ]
  },
  {
   "cell_type": "code",
   "execution_count": 87,
   "metadata": {
    "deletable": true,
    "editable": true
   },
   "outputs": [],
   "source": [
    "P1_loc_PBs = xp1*B.x + yp1*B.y + zp1*B.z  # Vector to locate Point P1 from Body Center of Station\n",
    "P2_loc_PBs = xp2*B.x + yp2*B.y + zp2*B.z  # Vector to locate Point P2 from Body Center of Station\n",
    "\n",
    "Pblst1_loc_PBs = xpblst1*B.x + ypblst1*B.y + zpblst1*B.z  # Vector to locate Point Ballast 1 from O\n",
    "Pblst2_loc_PBs = xpblst2*B.x + ypblst2*B.y + zpblst2*B.z  # Vector to locate Point Ballast 2 from O\n",
    "\n",
    "# Vector to locate Body Geometric Center from CM (since CM is fixed in space)\n",
    "# Can also be considered the negative of location of CM from Body Geometric Center\n",
    "PBs_loc_CM = -(mp1*P1_loc_PBs + mp2*P2_loc_PBs + mpblst*(Pblst1_loc_PBs + Pblst2_loc_PBs))/(mp1+mp2+(2*mpblst)+ms)\n",
    "\n",
    "P1_loc_CM = P1_loc_PBs + PBs_loc_CM # Vector to locate Point P1 from CM\n",
    "P2_loc_CM = P2_loc_PBs + PBs_loc_CM  # Vector to locate Point P2 from CM\n",
    "\n",
    "Pblst1_loc_CM = Pblst1_loc_PBs + PBs_loc_CM  # Vector to locate Point Ballast 1 from Body Center of Station\n",
    "Pblst2_loc_CM = Pblst2_loc_PBs + PBs_loc_CM  # Vector to locate Point Ballast 2 from Body Center of Station"
   ]
  },
  {
   "cell_type": "code",
   "execution_count": 88,
   "metadata": {
    "deletable": true,
    "editable": true
   },
   "outputs": [],
   "source": [
    "P1 = O.locatenew('P_1', P1_loc_CM)\n",
    "P1.set_vel(B, 0)\n",
    "P1.set_vel(N, B.ang_vel_in(N).cross(P1_loc_CM))"
   ]
  },
  {
   "cell_type": "code",
   "execution_count": 89,
   "metadata": {
    "deletable": true,
    "editable": true
   },
   "outputs": [],
   "source": [
    "P2 = O.locatenew('P_2', P2_loc_CM)\n",
    "P2.set_vel(B, 0)\n",
    "P2.set_vel(N, B.ang_vel_in(N).cross(P2_loc_CM))"
   ]
  },
  {
   "cell_type": "code",
   "execution_count": 90,
   "metadata": {
    "deletable": true,
    "editable": true
   },
   "outputs": [],
   "source": [
    "Pblst1 = O.locatenew('P_ballast_1', Pblst1_loc_CM)\n",
    "Pblst1.set_vel(B, 0)\n",
    "Pblst1.set_vel(N, B.ang_vel_in(N).cross(Pblst1_loc_CM))"
   ]
  },
  {
   "cell_type": "code",
   "execution_count": 91,
   "metadata": {
    "deletable": true,
    "editable": true
   },
   "outputs": [],
   "source": [
    "Pblst2 = O.locatenew('P_ballast_2', Pblst2_loc_CM)\n",
    "Pblst2.set_vel(B, 0)\n",
    "Pblst2.set_vel(N, B.ang_vel_in(N).cross(Pblst2_loc_CM))"
   ]
  },
  {
   "cell_type": "code",
   "execution_count": 92,
   "metadata": {
    "deletable": true,
    "editable": true
   },
   "outputs": [],
   "source": [
    "PBs = O.locatenew('P_B_s', PBs_loc_CM)\n",
    "PBs.set_vel(B, 0)\n",
    "PBs.set_vel(N, B.ang_vel_in(N).cross(PBs_loc_CM))"
   ]
  },
  {
   "cell_type": "markdown",
   "metadata": {
    "deletable": true,
    "editable": true
   },
   "source": [
    "## 2.7 Mass and Inertia"
   ]
  },
  {
   "cell_type": "code",
   "execution_count": 93,
   "metadata": {
    "deletable": true,
    "editable": true
   },
   "outputs": [],
   "source": [
    "# Moment of Inertia of station in RF B\n",
    "Is = me.inertia(B, (ms/12)*(3*Rs**2 + Ls**2), (ms/12)*(3*Rs**2 + Ls**2), ms*Rs**2)\n",
    "\n",
    "station = me.RigidBody('station', PBs, B, ms, (Is, PBs))\n",
    "\n",
    "point1 = me.Particle('point1', P1, mp1)\n",
    "point2 = me.Particle('point2', P2, mp2)\n",
    "ballast1 = me.Particle('ballast1', Pblst1, mpblst)\n",
    "ballast2 = me.Particle('ballast2', Pblst2, mpblst)"
   ]
  },
  {
   "cell_type": "markdown",
   "metadata": {
    "deletable": true,
    "editable": true
   },
   "source": [
    "## 2.8 Kane's Method\n",
    "With all parts of the system defined as was described earlier, we can call *me.KanesMethod* to formulate the dynamic equations $F + F^* = 0$"
   ]
  },
  {
   "cell_type": "code",
   "execution_count": 94,
   "metadata": {
    "deletable": true,
    "editable": true
   },
   "outputs": [],
   "source": [
    "bodies = [station, point1, point2, ballast1, ballast2]\n",
    "loads = None"
   ]
  },
  {
   "cell_type": "code",
   "execution_count": 95,
   "metadata": {
    "collapsed": false,
    "deletable": true,
    "editable": true,
    "jupyter": {
     "outputs_hidden": false
    }
   },
   "outputs": [],
   "source": [
    "kane = me.KanesMethod(N,\n",
    "                      q_ind=(q1, q2, q3),\n",
    "                      u_ind=(u1, u2, u3),\n",
    "                      kd_eqs=kdes)"
   ]
  },
  {
   "cell_type": "code",
   "execution_count": 96,
   "metadata": {
    "collapsed": false,
    "deletable": true,
    "editable": true,
    "jupyter": {
     "outputs_hidden": false
    }
   },
   "outputs": [],
   "source": [
    "fr, frstar = kane.kanes_equations(bodies, loads)"
   ]
  },
  {
   "cell_type": "code",
   "execution_count": null,
   "metadata": {
    "collapsed": false,
    "deletable": true,
    "editable": true,
    "jupyter": {
     "outputs_hidden": false
    }
   },
   "outputs": [],
   "source": []
  },
  {
   "cell_type": "code",
   "execution_count": 97,
   "metadata": {
    "collapsed": false,
    "deletable": true,
    "editable": true,
    "jupyter": {
     "outputs_hidden": false
    }
   },
   "outputs": [
    {
     "data": {
      "image/png": "[encoded data removed]",
      "text/latex": [
       "$\\displaystyle \\left\\{q_{2}, q_{3}, u_{1}, u_{2}, u_{3}, x_{p1}, x_{p2}, x_{pblst1}, x_{pblst2}, y_{p1}, y_{p2}, y_{pblst1}, y_{pblst2}, z_{p1}, z_{p2}, z_{pblst1}, z_{pblst2}, \\dot{u}_{1}, \\dot{u}_{2}, \\dot{u}_{3}, \\dot{x}_{p1}, \\dot{x}_{p2}, \\dot{x}_{pblst1}, \\dot{x}_{pblst2}, \\dot{y}_{p1}, \\dot{y}_{p2}, \\dot{y}_{pblst1}, \\dot{y}_{pblst2}, \\dot{z}_{p1}, \\dot{z}_{p2}, \\dot{z}_{pblst1}, \\dot{z}_{pblst2}\\right\\}$"
      ],
      "text/plain": [
       "{q2, q3, u1, u2, u3, x_p1, x_p2, x_p_blst_1, x_p_blst_2, y_p1, y_p2, y_p_blst_1, y_p_blst_2, z_p1, z_p2, z_p_blst_1, z_p_blst_2, u1', u2', u3', x_p1', x_p2', x_p_blst_1', x_p_blst_2', y_p1', y_p2', y_p_blst_1', y_p_blst_2', z_p1', z_p2', z_p_blst_1', z_p_blst_2'}"
      ]
     },
     "execution_count": 97,
     "metadata": {},
     "output_type": "execute_result"
    }
   ],
   "source": [
    "me.find_dynamicsymbols(frstar)"
   ]
  },
  {
   "cell_type": "markdown",
   "metadata": {
    "deletable": true,
    "editable": true
   },
   "source": [
    "What's interesting to note here is that $f_r$ and $f_r^*$ come to what we would expect:\n",
    "- $f_r = [0]$, as there are no forcing external forces acting on the system\n",
    "- $f_r^*$ is **NOT** a function of $q_1$. This result would be expected in a 'ZYX' transformation since the orientation of the station about its axis of symmetry should not affect the dynamics of the system (assuming symmetry of mass distribution as well). However, upon changing the rotation transformation style to something such as 'XYZ', we find that the system is *still not a function of $q_1$*, despite the fact that $q_1$ should now correspong to rotation about the inertial X axis.\n",
    "\n",
    "This discrepency was went completely unnoticed until the day of submission of this report, and therefore further exploration (and the possibility that it may affect the outcome of attempting to linearize the system) must be performed at a later time."
   ]
  },
  {
   "cell_type": "markdown",
   "metadata": {
    "deletable": true,
    "editable": true
   },
   "source": [
    "# 3. Simulation"
   ]
  },
  {
   "cell_type": "markdown",
   "metadata": {
    "deletable": true,
    "editable": true
   },
   "source": [
    "Before simulating, we need to specify a range of times to integrate over and system parameters (constants and initial conditions), followed by a function that will prescribe the location of the point masses through time.\n",
    "**- Note -** The masses ascribed here are NOT representative of a realistic station-astronaut(s) system. This system was designed in order to exaggerate the dynamical effects of such a system. Realistically, the perturbations would be much smaller considering the scales we are working with here."
   ]
  },
  {
   "cell_type": "markdown",
   "metadata": {},
   "source": [
    "## 3.1 Simulation Setup\n",
    "We require five parameters in order to simulate:\n",
    "1. Dynamic equations, as derived in the previous section\n",
    "2. A range of time steps\n",
    "3. Simulation constants (i.e. masses, radii, etc.)\n",
    "4. Initial conditions\n",
    "5. Specified parameters (essentially, this is our door into the integration routine. Through 'specifieds' we specify positions of the masses. More importantly, we can specify how they change over time.)"
   ]
  },
  {
   "cell_type": "markdown",
   "metadata": {},
   "source": [
    "### 3.1.1 Time Step, Constants, Init Conditions"
   ]
  },
  {
   "cell_type": "code",
   "execution_count": 103,
   "metadata": {
    "deletable": true,
    "editable": true
   },
   "outputs": [
    {
     "name": "stderr",
     "output_type": "stream",
     "text": [
      "127.0.0.1 - - [09/Dec/2020 15:26:38] \"GET /css/bootstrap.min.css HTTP/1.1\" 200 -\n",
      "127.0.0.1 - - [09/Dec/2020 15:26:39] \"GET /js/dyviz/main.js HTTP/1.1\" 200 -\n",
      "127.0.0.1 - - [09/Dec/2020 15:26:39] \"GET /2020-12-09_14-16-04_scene_desc.json HTTP/1.1\" 200 -\n",
      "127.0.0.1 - - [09/Dec/2020 15:26:39] code 404, message File not found\n",
      "127.0.0.1 - - [09/Dec/2020 15:26:39] \"GET /fonts/glyphicons-halflings-regular.woff2 HTTP/1.1\" 404 -\n",
      "127.0.0.1 - - [09/Dec/2020 15:26:40] \"GET /2020-12-09_14-16-04_simulation_data.json HTTP/1.1\" 304 -\n",
      "127.0.0.1 - - [09/Dec/2020 15:30:20] code 404, message File not found\n",
      "127.0.0.1 - - [09/Dec/2020 15:30:20] \"GET /fonts/glyphicons-halflings-regular.woff2 HTTP/1.1\" 404 -\n",
      "127.0.0.1 - - [09/Dec/2020 15:30:20] \"GET /index.html?load=2020-12-09_14-16-04_scene_desc.json HTTP/1.1\" 200 -\n",
      "127.0.0.1 - - [09/Dec/2020 15:30:30] \"GET /2020-12-09_14-16-04_scene_desc.json HTTP/1.1\" 200 -\n",
      "127.0.0.1 - - [09/Dec/2020 15:30:30] code 404, message File not found\n",
      "127.0.0.1 - - [09/Dec/2020 15:30:30] \"GET /fonts/glyphicons-halflings-regular.woff2 HTTP/1.1\" 404 -\n",
      "127.0.0.1 - - [09/Dec/2020 15:31:42] \"GET /2020-12-09_14-16-04_scene_desc.json HTTP/1.1\" 200 -\n",
      "127.0.0.1 - - [09/Dec/2020 15:31:42] code 404, message File not found\n",
      "127.0.0.1 - - [09/Dec/2020 15:31:42] \"GET /fonts/glyphicons-halflings-regular.woff2 HTTP/1.1\" 404 -\n"
     ]
    }
   ],
   "source": [
    "times = np.linspace(0.0, 20.0, num=900)\n",
    "\n",
    "constants = {ms: 1000,\n",
    "             Rs: 10,\n",
    "             Ls: 1,\n",
    "             mp1: 50,\n",
    "             mp2: 50,\n",
    "             mpblst: 100}\n",
    "\n",
    "init_cond = {q1: 0,\n",
    "             q2: 0,\n",
    "             q3: 0,\n",
    "             u1: 0,\n",
    "             u2: 0,\n",
    "             u3: 1}"
   ]
  },
  {
   "cell_type": "markdown",
   "metadata": {
    "deletable": true,
    "editable": true
   },
   "source": [
    "### 3.1.2 Specified Parameters\n",
    "The method to prescribe the location of the points masses is \"point_motion()\". As it is currently written, Particle motion will begin 5 seconds into the simulation, last for 10 seconds, then freeze. Currently, the Ballast masses are fixed in their respective locations because no constraint equations have been written to specify their motion. Their coordinates are prescribed in the station body reference frame 'B'."
   ]
  },
  {
   "cell_type": "code",
   "execution_count": 100,
   "metadata": {
    "collapsed": false,
    "deletable": true,
    "editable": true,
    "jupyter": {
     "outputs_hidden": false
    }
   },
   "outputs": [],
   "source": [
    "def point_motion(x, t, Rs=constants[Rs]):\n",
    "    if t < 5:\n",
    "        xp1 = 0\n",
    "        yp1 = Rs\n",
    "        zp1 = 0\n",
    "        \n",
    "        xp2 = 0\n",
    "        yp2 = -Rs\n",
    "        zp2 = 0\n",
    "    \n",
    "    elif t >= 5 and t < 15:\n",
    "        xp1 = Rs*np.cos((np.pi/2)*(1 - ((t-5)/10)))\n",
    "        yp1 = Rs*np.sin((np.pi/2)*(1 - ((t-5)/10)))\n",
    "#         zp1 = 5*(t-5)/10    # Only useful if you want to see how out-of-plane motion point-mass motion affects overall motion\n",
    "        zp1 = 0\n",
    "\n",
    "        xp2 = Rs*np.cos((np.pi/2)*(1 - ((t-5)/10)))\n",
    "        yp2 = -Rs*np.sin((np.pi/2)*(1 - ((t-5)/10)))\n",
    "#         zp2 = 0.8*(t-5)/10    # Only useful if you want to see how out-of-plane motion point-mass motion affects overall motion\n",
    "        zp2 = 0\n",
    "    \n",
    "    else:\n",
    "        xp1 = Rs\n",
    "        yp1 = 0\n",
    "        zp1 = 0\n",
    "\n",
    "        xp2 = Rs\n",
    "        yp2 = 0\n",
    "        zp2 = 0\n",
    "\n",
    "    xpblst1 = -Rs\n",
    "    ypblst1 = 0\n",
    "    zpblst1 = 0\n",
    "    xpblst2 = Rs\n",
    "    ypblst2 = 0\n",
    "    zpblst2 = 0\n",
    "        \n",
    "    return np.array([xp1, yp1, zp1, xp2, yp2, zp2, xpblst1, ypblst1, zpblst1, xpblst2, ypblst2, zpblst2])\n",
    "\n",
    "specifieds = {(xp1, yp1, zp1, xp2, yp2, zp2, xpblst1, ypblst1, zpblst1, xpblst2, ypblst2, zpblst2): point_motion}"
   ]
  },
  {
   "cell_type": "markdown",
   "metadata": {
    "deletable": true,
    "editable": true
   },
   "source": [
    "### 3.1.3 Initialize\n",
    "With the system parameters defined, we can define our whole system by packaging it all together."
   ]
  },
  {
   "cell_type": "code",
   "execution_count": 44,
   "metadata": {
    "deletable": true,
    "editable": true
   },
   "outputs": [],
   "source": [
    "sys = System(kane,\n",
    "             constants=constants,\n",
    "             specifieds=specifieds,            # This must be a dict object that contains entries, but an entry can be a function!\n",
    "             initial_conditions=init_cond,\n",
    "             times=times)"
   ]
  },
  {
   "cell_type": "markdown",
   "metadata": {
    "deletable": true,
    "editable": true
   },
   "source": [
    "### 3.1.4 Integrate"
   ]
  },
  {
   "cell_type": "code",
   "execution_count": 45,
   "metadata": {
    "collapsed": false,
    "deletable": true,
    "editable": true,
    "jupyter": {
     "outputs_hidden": false
    }
   },
   "outputs": [],
   "source": [
    "traj = sys.integrate()"
   ]
  },
  {
   "cell_type": "markdown",
   "metadata": {
    "deletable": true,
    "editable": true
   },
   "source": [
    "### 3.1.5 Results\n",
    "Instantiate a matplotlib widget to plot the states vs. time"
   ]
  },
  {
   "cell_type": "code",
   "execution_count": 46,
   "metadata": {
    "deletable": true,
    "editable": true
   },
   "outputs": [],
   "source": [
    "%matplotlib widget"
   ]
  },
  {
   "cell_type": "code",
   "execution_count": 47,
   "metadata": {
    "collapsed": false,
    "deletable": true,
    "editable": true,
    "jupyter": {
     "outputs_hidden": false
    },
    "scrolled": true
   },
   "outputs": [
    {
     "data": {
      "application/vnd.jupyter.widget-view+json": {
       "model_id": "d113f64a627645dc8318e46f98b44205",
       "version_major": 2,
       "version_minor": 0
      },
      "text/plain": [
       "Canvas(toolbar=Toolbar(toolitems=[('Home', 'Reset original view', 'home', 'home'), ('Back', 'Back to previous …"
      ]
     },
     "metadata": {},
     "output_type": "display_data"
    }
   ],
   "source": [
    "states = [q1, q2, q3, u1, u2, u3]\n",
    "fig, axes = plt.subplots(6, 1)\n",
    "\n",
    "for i, ax in enumerate(axes):\n",
    "    ax.plot(times, traj[:, i]*180/np.pi)\n",
    "    ax.set_ylabel(sm.latex(states[i], mode='inline'))\n",
    "\n",
    "plt.tight_layout()"
   ]
  },
  {
   "cell_type": "markdown",
   "metadata": {
    "deletable": true,
    "editable": true
   },
   "source": [
    "**Note** that angles and angular rates are in degrees and degrees/sec, respectively"
   ]
  },
  {
   "cell_type": "markdown",
   "metadata": {
    "deletable": true,
    "editable": true
   },
   "source": [
    "# 4. 3D Visualization\n",
    "We're going to use the pydy.viz package to simulate the system. We'll need to import all the shapes we want to use (Torus, Cylinder, Sphere) and a few other items. Due to the fact that \"scene\" cannot be passed any aguments that contain symbols, and due to the fact that we can't access the state symbols directly from 'sys', we have to create the \"scene\" object by explicitly specifying all of the parameters when calling the method. In order to determine these parameters as a they vary in time, we must call them again, this time *outside* the integration loop, and save the output to temporary values."
   ]
  },
  {
   "cell_type": "code",
   "execution_count": 48,
   "metadata": {
    "deletable": true,
    "editable": true
   },
   "outputs": [],
   "source": [
    "from pydy.viz import Torus, Cylinder, Sphere, Tube, VisualizationFrame, Scene"
   ]
  },
  {
   "cell_type": "code",
   "execution_count": 49,
   "metadata": {
    "collapsed": false,
    "deletable": true,
    "editable": true,
    "jupyter": {
     "outputs_hidden": false
    }
   },
   "outputs": [],
   "source": [
    "# Ballast point motions (all static for now)\n",
    "ballast1 = np.ones((len(times), 1))*-constants[Rs]\n",
    "ballast2 = np.zeros((len(times), 2))\n",
    "ballast3 = np.ones((len(times), 1))*constants[Rs]\n",
    "ballast4 = np.zeros((len(times), 2))\n",
    "\n",
    "ballast_traj = np.append(np.append(np.append(ballast1, ballast2, axis=1), ballast3, axis=1), ballast4,axis=1)"
   ]
  },
  {
   "cell_type": "code",
   "execution_count": 50,
   "metadata": {
    "deletable": true,
    "editable": true
   },
   "outputs": [],
   "source": [
    "# Tack on the point mass motions (copied from def_motion)\n",
    "traj_pms = np.zeros((len(times), 6))\n",
    "\n",
    "for k in range(len(times)):\n",
    "    t = times[k]\n",
    "    if t < 5:\n",
    "        traj_pms[k, 0] = 0  # xp1\n",
    "        traj_pms[k, 1] = constants[Rs]  # yp1\n",
    "        traj_pms[k, 2] = 0  # zp1\n",
    "        \n",
    "        traj_pms[k, 3] = 0  # xp2\n",
    "        traj_pms[k, 4] = -constants[Rs]  # yp2\n",
    "        traj_pms[k, 5] = 0  # zp2\n",
    "    \n",
    "    elif t >= 5 and t < 15:\n",
    "        traj_pms[k, 0] = constants[Rs]*np.cos((np.pi/2)*(1 - ((t-5)/10)))\n",
    "        traj_pms[k, 1] = constants[Rs]*np.sin((np.pi/2)*(1 - ((t-5)/10)))\n",
    "#         traj_pms[k, 2] = 5*(t-5)/10   # Only useful if you want to see how out-of-plane motion point-mass motion affects overall motion\n",
    "        traj_pms[k, 2] = 0\n",
    "\n",
    "        traj_pms[k, 3] = constants[Rs]*np.cos((np.pi/2)*(1 - ((t-5)/10)))\n",
    "        traj_pms[k, 4] = -constants[Rs]*np.sin((np.pi/2)*(1 - ((t-5)/10)))\n",
    "#         traj_pms[k, 5] = 0.8*(t-5)/10    # Only useful if you want to see how out-of-plane motion point-mass motion affects overall motion\n",
    "        traj_pms[k, 5] = 0\n",
    "    \n",
    "    else:\n",
    "        traj_pms[k, 0] = constants[Rs]\n",
    "        traj_pms[k, 1] = 0\n",
    "        traj_pms[k, 2] = 0\n",
    "\n",
    "        traj_pms[k, 3] = constants[Rs]\n",
    "        traj_pms[k, 4] = 0\n",
    "        traj_pms[k, 5] = 0\n",
    "        \n",
    "traj_all = np.append(traj, np.append(traj_pms, ballast_traj, axis=1), axis=1)"
   ]
  },
  {
   "cell_type": "markdown",
   "metadata": {
    "deletable": true,
    "editable": true
   },
   "source": [
    "Now that we've re-captured the parameters of interest, we can set up the animation by placing colored spheres for each point. The Point Masses are represented by red spheres while the Ballast Masses are represented by green spheres."
   ]
  },
  {
   "cell_type": "code",
   "execution_count": 51,
   "metadata": {
    "deletable": true,
    "editable": true
   },
   "outputs": [],
   "source": [
    "pm1_sph = Sphere(0.5, color='red')                # Point-mass 1\n",
    "pm2_sph = Sphere(0.5, color='red')                # Point-mass 2\n",
    "pblst1_sph = Sphere(0.75, color='green')          # Ballast point-mass 1\n",
    "pblst2_sph = Sphere(0.75, color='green')          # Ballast point-mass 2\n",
    "torus_s = Torus(10, 0.5, 8, 100, color='blue')    # The torus-shaped 'space station'. Unfortunately, despite my best efforts, I cannot seem to modify the default number of ring segments (6). So our 'ring-shaped space station' will be represented by a hexagon.\n",
    "w_vector = Cylinder(10, 0.1, color='magenta')     # A rod fixed to the geometric center of the torus to help us see when it starts to go off-kilter"
   ]
  },
  {
   "cell_type": "code",
   "execution_count": 52,
   "metadata": {
    "deletable": true,
    "editable": true
   },
   "outputs": [],
   "source": [
    "Bz = B.orientnew('Bz', 'Axis', [np.pi/2, B.x])"
   ]
  },
  {
   "cell_type": "code",
   "execution_count": 58,
   "metadata": {
    "deletable": true,
    "editable": true
   },
   "outputs": [],
   "source": [
    "vf1 = VisualizationFrame('P_1', B, P1, pm1_sph)\n",
    "vf2 = VisualizationFrame('P_2', B, P2, pm2_sph)\n",
    "vfbp1 = VisualizationFrame('Pblst_1', B, Pblst1, pblst1_sph)\n",
    "vfbp2 = VisualizationFrame('Pblst_2', B, Pblst2, pblst2_sph)\n",
    "vfvec = VisualizationFrame('w_vector', Bz, PBs.locatenew('y', 5 * Bz.y), w_vector)\n",
    "vftor = VisualizationFrame('station', B, PBs, torus_s)"
   ]
  },
  {
   "cell_type": "code",
   "execution_count": 59,
   "metadata": {
    "deletable": true,
    "editable": true
   },
   "outputs": [],
   "source": [
    "states = sys.states\n",
    "points_pos = [xp1, yp1, zp1, xp2, yp2, zp2]\n",
    "ballast_pos = [xpblst1, ypblst1, zpblst1, xpblst2, ypblst2, zpblst2]"
   ]
  },
  {
   "cell_type": "code",
   "execution_count": 60,
   "metadata": {
    "collapsed": false,
    "deletable": true,
    "editable": true,
    "jupyter": {
     "outputs_hidden": false
    }
   },
   "outputs": [],
   "source": [
    "states_symbols = states + points_pos + ballast_pos"
   ]
  },
  {
   "cell_type": "code",
   "execution_count": 61,
   "metadata": {
    "deletable": true,
    "editable": true
   },
   "outputs": [],
   "source": [
    "scene = Scene(N, O, vf1, vf2, vfbp1, vfbp2, vfvec, vftor, times=times, constants=constants, states_symbols=states_symbols, states_trajectories=traj_all)"
   ]
  },
  {
   "cell_type": "markdown",
   "metadata": {
    "deletable": true,
    "editable": true
   },
   "source": [
    "...aaaaaaand go!  \n",
    "**Note:** The 3D visualization begins zoomed IN to the point where the torus is not visible. Once it appears everyting has loaded, zoom out a few ticks before pressing 'Play'"
   ]
  },
  {
   "cell_type": "code",
   "execution_count": 62,
   "metadata": {
    "collapsed": false,
    "deletable": true,
    "editable": true,
    "jupyter": {
     "outputs_hidden": false
    }
   },
   "outputs": [
    {
     "name": "stdout",
     "output_type": "stream",
     "text": [
      "/home/josh/sympy-rotating-torus/pydy-resources/pydy-resources/pydy-resources\n",
      "Serving HTTP on 127.0.0.1 port 8002 ...\n",
      "To view visualization, open:\n",
      "\n",
      "http://localhost:8002/index.html?load=2020-12-09_14-16-04_scene_desc.json\n",
      "Press Ctrl+C to stop server...\n"
     ]
    },
    {
     "name": "stderr",
     "output_type": "stream",
     "text": [
      "127.0.0.1 - - [09/Dec/2020 14:16:11] \"GET /index.html?load=2020-12-09_14-16-04_scene_desc.json HTTP/1.1\" 200 -\n",
      "127.0.0.1 - - [09/Dec/2020 14:16:11] \"GET /js/external/utils/bootstrap-slider.js HTTP/1.1\" 200 -\n",
      "127.0.0.1 - - [09/Dec/2020 14:16:11] \"GET /js/dyviz/param_editor.js HTTP/1.1\" 200 -\n",
      "127.0.0.1 - - [09/Dec/2020 14:16:11] \"GET /js/dyviz/materials.js HTTP/1.1\" 200 -\n",
      "127.0.0.1 - - [09/Dec/2020 14:16:11] \"GET /js/dyviz/main.js HTTP/1.1\" 200 -\n",
      "127.0.0.1 - - [09/Dec/2020 14:16:12] \"GET /2020-12-09_14-16-04_scene_desc.json HTTP/1.1\" 200 -\n",
      "127.0.0.1 - - [09/Dec/2020 14:16:12] code 404, message File not found\n",
      "127.0.0.1 - - [09/Dec/2020 14:16:12] \"GET /fonts/glyphicons-halflings-regular.woff2 HTTP/1.1\" 404 -\n",
      "127.0.0.1 - - [09/Dec/2020 14:16:12] \"GET /2020-12-09_14-16-04_simulation_data.json HTTP/1.1\" 200 -\n",
      "127.0.0.1 - - [09/Dec/2020 14:16:27] \"GET /2020-12-09_14-16-04_scene_desc.json HTTP/1.1\" 304 -\n",
      "127.0.0.1 - - [09/Dec/2020 14:16:27] code 404, message File not found\n",
      "127.0.0.1 - - [09/Dec/2020 14:16:27] \"GET /fonts/glyphicons-halflings-regular.woff2 HTTP/1.1\" 404 -\n",
      "127.0.0.1 - - [09/Dec/2020 14:16:27] \"GET /2020-12-09_14-16-04_simulation_data.json HTTP/1.1\" 304 -\n"
     ]
    }
   ],
   "source": [
    "scene.display()\n",
    "# Takes a minute to execute, be patient. Once the visualization server has started, open the .json file to view the animation."
   ]
  },
  {
   "cell_type": "markdown",
   "metadata": {
    "deletable": true,
    "editable": true
   },
   "source": [
    "# 5. Linearize\n",
    "What lies below is an initial attempt at linearizing the system as a first step toward building a controller to control the Ballast masses. Linearization takes place about an operating point, which in this case, is the \"balanced\" system (C.M. located at geometric center of torus)."
   ]
  },
  {
   "cell_type": "code",
   "execution_count": null,
   "metadata": {
    "deletable": true,
    "editable": true
   },
   "outputs": [],
   "source": [
    "point_states = {xp1: 0, yp1: Rs, zp1: 0,\n",
    "                xp2: 0, yp2:-Rs, zp2: 0,\n",
    "                xp1.diff(): 0, yp1.diff(): 0, zp1.diff(): 0,\n",
    "                xp2.diff(): 0, yp2.diff(): 0, zp2.diff(): 0,\n",
    "                xpblst1:-Rs, ypblst1: 0, zpblst1: 0,\n",
    "                xpblst2: Rs, ypblst2: 0, zpblst2: 0,\n",
    "                xpblst1.diff(): 0, ypblst1.diff(): 0, zpblst1.diff(): 0,\n",
    "                xpblst2.diff(): 0, ypblst2.diff(): 0, zpblst2.diff(): 0}"
   ]
  },
  {
   "cell_type": "code",
   "execution_count": null,
   "metadata": {
    "deletable": true,
    "editable": true
   },
   "outputs": [],
   "source": [
    "v0 = sm.zeros(8, 1)\n",
    "v0[2] = 0.1  # Assign 0.1 to u3's zeroing point (the angular velocity about Body-frame B.z axis)"
   ]
  },
  {
   "cell_type": "code",
   "execution_count": null,
   "metadata": {
    "deletable": true,
    "editable": true
   },
   "outputs": [],
   "source": [
    "v = sm.Matrix([q2, q3, u1, u2, u3, u1.diff(), u2.diff(), u3.diff()])\n",
    "#v = sm.Matrix([q1, q2, q3, u1, u2, u3, u1.diff(), u2.diff(), u3.diff(), xpblst1, ypblst1, zpblst1, xpblst2, ypblst2, zpblst2])"
   ]
  },
  {
   "cell_type": "code",
   "execution_count": 46,
   "metadata": {
    "deletable": true,
    "editable": true
   },
   "outputs": [],
   "source": [
    "v_subs = dict(zip(v, v0))"
   ]
  },
  {
   "cell_type": "code",
   "execution_count": 47,
   "metadata": {
    "deletable": true,
    "editable": true
   },
   "outputs": [],
   "source": [
    "frstar = frstar.subs(constants).subs(point_states).subs({Rs: 10})\n",
    "f_lin = frstar.subs(v_subs) + frstar.jacobian(v).subs(v_subs) * (v - v0)"
   ]
  },
  {
   "cell_type": "code",
   "execution_count": 48,
   "metadata": {
    "deletable": true,
    "editable": true
   },
   "outputs": [],
   "source": [
    "q = sm.Matrix([q2, q3])\n",
    "u = sm.Matrix([u1, u2, u3])"
   ]
  },
  {
   "cell_type": "code",
   "execution_count": 49,
   "metadata": {
    "deletable": true,
    "editable": true
   },
   "outputs": [],
   "source": [
    "K = f_lin.jacobian(q)"
   ]
  },
  {
   "cell_type": "code",
   "execution_count": 50,
   "metadata": {
    "deletable": true,
    "editable": true
   },
   "outputs": [],
   "source": [
    "C = f_lin.jacobian(u)"
   ]
  },
  {
   "cell_type": "code",
   "execution_count": 51,
   "metadata": {
    "deletable": true,
    "editable": true
   },
   "outputs": [],
   "source": [
    "M = f_lin.jacobian(u.diff())"
   ]
  },
  {
   "cell_type": "code",
   "execution_count": 52,
   "metadata": {
    "deletable": true,
    "editable": true
   },
   "outputs": [],
   "source": [
    "F = f_lin - M * u.diff() - C * u - K * q"
   ]
  },
  {
   "cell_type": "code",
   "execution_count": 53,
   "metadata": {
    "collapsed": false,
    "deletable": true,
    "editable": true,
    "jupyter": {
     "outputs_hidden": false
    },
    "scrolled": true
   },
   "outputs": [
    {
     "data": {
      "image/png": "[encoded data removed]",
      "text/latex": [
       "$\\displaystyle \\left[\\begin{matrix}0 & 0 & 0 & 1 & 0\\\\0 & 0 & 0 & 0 & 1\\\\0 & 0 & 0 & 0 & 0\\\\0.0210536044362292 & 0 & 0 & 0 & -0.310536044362292\\\\0 & 0.000769230769230769 & 0 & 0.107692307692308 & 0\\end{matrix}\\right]$"
      ],
      "text/plain": [
       "Matrix([\n",
       "[                 0,                    0, 0,                 1,                  0],\n",
       "[                 0,                    0, 0,                 0,                  1],\n",
       "[                 0,                    0, 0,                 0,                  0],\n",
       "[0.0210536044362292,                    0, 0,                 0, -0.310536044362292],\n",
       "[                 0, 0.000769230769230769, 0, 0.107692307692308,                  0]])"
      ]
     },
     "execution_count": 53,
     "metadata": {},
     "output_type": "execute_result"
    }
   ],
   "source": [
    "Astate = sm.zeros(2, 3).row_join(sm.eye(2)).col_join(-M.LUsolve(K).row_join(-M.LUsolve(C)))\n",
    "Astate"
   ]
  },
  {
   "cell_type": "markdown",
   "metadata": {
    "deletable": true,
    "editable": true
   },
   "source": [
    "The state matrix A shown above *supposedly* represents the linearized system about a zero operating point, although it would seem that something may be in error. It is at this point where more time beyond the limited amount available for this project must be used to figure out the linearization process."
   ]
  },
  {
   "cell_type": "markdown",
   "metadata": {
    "deletable": true,
    "editable": true
   },
   "source": [
    "# 6. Conclusion"
   ]
  },
  {
   "cell_type": "markdown",
   "metadata": {
    "deletable": true,
    "editable": true
   },
   "source": [
    "The initial objective of this project proved to be far loftier than initially expected, and unfortunately only a portion of the objectives were obtained. An analogous system consisting of multiple point masses, some of which are prescribed motion in time, was formed and equations of motion derived using Kane's Method, followed by simulating, plotting the state vectors through time, and visualizing the motion using 3D shapes. Various body transformation methods were explored to determine the most suitable choice of transformations to intuit the state of the system from the state vectors alone. A controller design was attempted but ultimately was not completed due to a seemingly erroneous linearization of the state space. Though incomplete, we can still claim with confidence that the non-linear equations of motion derived using Kane's Method accurately described the motion of the system as we would expect it to behave.\n",
    "\n",
    "Future work should strive to *properly* linearize the system, or alternatively, attempt to design a controller around a non-linear plant. Following that, the interaction between the point masses and the station can be modeled to account for action/reactions such as those that take place as a human walks along a surface. Further work could be done to account for various external forces such as solar wind, gravitational gradients acting radially outward from any nearby cellestial bodies, and aerodynamic drag (if the station were assumed to be in low-Earth Orbit)."
   ]
  }
 ],
 "metadata": {
  "kernelspec": {
   "display_name": "Python 3",
   "language": "python",
   "name": "python3"
  },
  "language_info": {
   "codemirror_mode": {
    "name": "ipython",
    "version": 3
   },
   "file_extension": ".py",
   "mimetype": "text/x-python",
   "name": "python",
   "nbconvert_exporter": "python",
   "pygments_lexer": "ipython3",
   "version": "3.8.5"
  }
 },
 "nbformat": 4,
 "nbformat_minor": 4
}
