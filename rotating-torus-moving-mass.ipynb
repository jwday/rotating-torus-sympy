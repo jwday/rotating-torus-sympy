{
 "cells": [
  {
   "cell_type": "code",
   "execution_count": 4,
   "metadata": {},
   "outputs": [],
   "source": [
    "import sympy as sm\n",
    "import sympy.physics.mechanics as me\n",
    "import numpy as np\n",
    "import matplotlib.pyplot as plt\n",
    "from pydy.system import System\n",
    "me.init_vprinting(use_latex=True, pretty_print=False)"
   ]
  },
  {
   "cell_type": "markdown",
   "metadata": {},
   "source": [
    "### Define Parameters"
   ]
  },
  {
   "cell_type": "markdown",
   "metadata": {},
   "source": [
    "Key parameters of our system:\n",
    "- Station Mass, $m_s$\n",
    "- Station Radius, $R_s$\n",
    "- Station Length (in the axisymmetric direction), $L_s$\n",
    "- Initial angular velocity about axis of symmetry, $\\omega_0$"
   ]
  },
  {
   "cell_type": "code",
   "execution_count": 5,
   "metadata": {},
   "outputs": [],
   "source": [
    "ms, Rs, Ls, w0 = sm.symbols('m_s, R_s, L_s, omega_0')\n",
    "t = me.dynamicsymbols._t"
   ]
  },
  {
   "cell_type": "markdown",
   "metadata": {},
   "source": [
    "The mass of all the system components are treated as constant (for now), but since the location of each point mass changes over time, the variables that describe the locations must be introduced as *dynamic symbols*. So next, we define dynamic symbols to represent the cartesian locations of interest:\n",
    "- XYZ locations of the two point masses, and their corresponding mass symbols\n",
    "- XYZ locations of the two ballast masses, and their corresponding mass symbols"
   ]
  },
  {
   "cell_type": "markdown",
   "metadata": {},
   "source": [
    "## Measure numbers for vector that locates Point P1 relative to CM, which will later be prescribed as a function of time"
   ]
  },
  {
   "cell_type": "code",
   "execution_count": 7,
   "metadata": {},
   "outputs": [],
   "source": [
    "mp1 = sm.symbols('m_p1')\n",
    "xp1, yp1, zp1 = me.dynamicsymbols('x_p1, y_p1, z_p1')"
   ]
  },
  {
   "cell_type": "code",
   "execution_count": null,
   "metadata": {},
   "outputs": [],
   "source": []
  }
 ],
 "metadata": {
  "kernelspec": {
   "display_name": "Python 3",
   "language": "python",
   "name": "python3"
  },
  "language_info": {
   "codemirror_mode": {
    "name": "ipython",
    "version": 3
   },
   "file_extension": ".py",
   "mimetype": "text/x-python",
   "name": "python",
   "nbconvert_exporter": "python",
   "pygments_lexer": "ipython3",
   "version": "3.8.5"
  }
 },
 "nbformat": 4,
 "nbformat_minor": 4
}
